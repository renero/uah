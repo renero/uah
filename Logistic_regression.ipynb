{
 "cells": [
  {
   "cell_type": "markdown",
   "metadata": {},
   "source": [
    "# Logistic Regression\n",
    "\n",
    "Logistic Regression is a Machine Learning classification algorithm that is used to predict the probability of a categorical dependent variable. In logistic regression, the dependent variable is a binary variable that contains data coded as 1 (yes, success, etc.) or 0 (no, failure, etc.). In other words, the logistic regression model predicts P(Y=1) as a function of X.\n",
    "\n",
    "It works very much the same way Linear Regression does, except that the optimization function is not OLS but [_maximum likelihood_](https://en.wikipedia.org/wiki/Maximum_likelihood_estimation).\n",
    "\n",
    "## Important considerations\n",
    "\n",
    "- We use logistic regression to train a model to predict between 2-classes: Yes/No, Black/White, True/False. If we need to predict more than two classes, we need to build some artifacts in logistic regression that will be explained at the end of this notebook.\n",
    "- No dependent variables should be among the set of features. Study the correlation between all the features separatedly.\n",
    "- Scaled, norm'd and centered input variables.\n",
    "\n",
    "The output from a logistic regression is always the log of the odds. We will explore this concept further along the exercise."
   ]
  },
  {
   "cell_type": "code",
   "execution_count": 1,
   "metadata": {},
   "outputs": [],
   "source": [
    "import pandas as pd\n",
    "import matplotlib.pyplot as plt\n",
    "import numpy as np\n",
    "import seaborn as sns\n",
    "import statsmodels.api as sm\n",
    "\n",
    "from sklearn import metrics\n",
    "from sklearn.preprocessing import OneHotEncoder, LabelEncoder, LabelBinarizer\n",
    "from sklearn.pipeline import make_pipeline\n",
    "from sklearn_pandas import DataFrameMapper\n",
    "from sklearn.feature_selection import RFE\n",
    "from sklearn.linear_model import LogisticRegression\n",
    "from sklearn.model_selection import train_test_split\n",
    "from sklearn.metrics import confusion_matrix, classification_report\n",
    "from sklearn.metrics import roc_auc_score, roc_curve"
   ]
  },
  {
   "cell_type": "code",
   "execution_count": 2,
   "metadata": {},
   "outputs": [
    {
     "data": {
      "text/html": [
       "<div>\n",
       "<style scoped>\n",
       "    .dataframe tbody tr th:only-of-type {\n",
       "        vertical-align: middle;\n",
       "    }\n",
       "\n",
       "    .dataframe tbody tr th {\n",
       "        vertical-align: top;\n",
       "    }\n",
       "\n",
       "    .dataframe thead th {\n",
       "        text-align: right;\n",
       "    }\n",
       "</style>\n",
       "<table border=\"1\" class=\"dataframe\">\n",
       "  <thead>\n",
       "    <tr style=\"text-align: right;\">\n",
       "      <th></th>\n",
       "      <th>Id</th>\n",
       "      <th>MSSubClass</th>\n",
       "      <th>MSZoning</th>\n",
       "      <th>LotArea</th>\n",
       "      <th>Street</th>\n",
       "      <th>Alley</th>\n",
       "      <th>LotShape</th>\n",
       "      <th>LandContour</th>\n",
       "      <th>Utilities</th>\n",
       "      <th>LotConfig</th>\n",
       "      <th>...</th>\n",
       "      <th>PoolQC</th>\n",
       "      <th>Fence</th>\n",
       "      <th>MiscFeature</th>\n",
       "      <th>MiscVal</th>\n",
       "      <th>MoSold</th>\n",
       "      <th>YrSold</th>\n",
       "      <th>SaleType</th>\n",
       "      <th>SaleCondition</th>\n",
       "      <th>SalePrice</th>\n",
       "      <th>LotFrontage</th>\n",
       "    </tr>\n",
       "  </thead>\n",
       "  <tbody>\n",
       "    <tr>\n",
       "      <th>0</th>\n",
       "      <td>8</td>\n",
       "      <td>60</td>\n",
       "      <td>RL</td>\n",
       "      <td>10382</td>\n",
       "      <td>Pave</td>\n",
       "      <td>NaN</td>\n",
       "      <td>IR1</td>\n",
       "      <td>Lvl</td>\n",
       "      <td>AllPub</td>\n",
       "      <td>Corner</td>\n",
       "      <td>...</td>\n",
       "      <td>NaN</td>\n",
       "      <td>NaN</td>\n",
       "      <td>Shed</td>\n",
       "      <td>350</td>\n",
       "      <td>11</td>\n",
       "      <td>2009</td>\n",
       "      <td>WD</td>\n",
       "      <td>Normal</td>\n",
       "      <td>200000</td>\n",
       "      <td>80.115468</td>\n",
       "    </tr>\n",
       "    <tr>\n",
       "      <th>1</th>\n",
       "      <td>51</td>\n",
       "      <td>60</td>\n",
       "      <td>RL</td>\n",
       "      <td>13869</td>\n",
       "      <td>Pave</td>\n",
       "      <td>NaN</td>\n",
       "      <td>IR2</td>\n",
       "      <td>Lvl</td>\n",
       "      <td>AllPub</td>\n",
       "      <td>Corner</td>\n",
       "      <td>...</td>\n",
       "      <td>NaN</td>\n",
       "      <td>NaN</td>\n",
       "      <td>NaN</td>\n",
       "      <td>0</td>\n",
       "      <td>7</td>\n",
       "      <td>2007</td>\n",
       "      <td>WD</td>\n",
       "      <td>Normal</td>\n",
       "      <td>177000</td>\n",
       "      <td>76.703758</td>\n",
       "    </tr>\n",
       "    <tr>\n",
       "      <th>2</th>\n",
       "      <td>112</td>\n",
       "      <td>80</td>\n",
       "      <td>RL</td>\n",
       "      <td>7750</td>\n",
       "      <td>Pave</td>\n",
       "      <td>NaN</td>\n",
       "      <td>IR1</td>\n",
       "      <td>Lvl</td>\n",
       "      <td>AllPub</td>\n",
       "      <td>Inside</td>\n",
       "      <td>...</td>\n",
       "      <td>NaN</td>\n",
       "      <td>NaN</td>\n",
       "      <td>NaN</td>\n",
       "      <td>0</td>\n",
       "      <td>4</td>\n",
       "      <td>2010</td>\n",
       "      <td>WD</td>\n",
       "      <td>Normal</td>\n",
       "      <td>180000</td>\n",
       "      <td>67.285313</td>\n",
       "    </tr>\n",
       "    <tr>\n",
       "      <th>3</th>\n",
       "      <td>148</td>\n",
       "      <td>60</td>\n",
       "      <td>RL</td>\n",
       "      <td>9505</td>\n",
       "      <td>Pave</td>\n",
       "      <td>NaN</td>\n",
       "      <td>IR1</td>\n",
       "      <td>Lvl</td>\n",
       "      <td>AllPub</td>\n",
       "      <td>CulDSac</td>\n",
       "      <td>...</td>\n",
       "      <td>NaN</td>\n",
       "      <td>NaN</td>\n",
       "      <td>NaN</td>\n",
       "      <td>0</td>\n",
       "      <td>5</td>\n",
       "      <td>2010</td>\n",
       "      <td>WD</td>\n",
       "      <td>Normal</td>\n",
       "      <td>222500</td>\n",
       "      <td>69.803112</td>\n",
       "    </tr>\n",
       "    <tr>\n",
       "      <th>4</th>\n",
       "      <td>178</td>\n",
       "      <td>50</td>\n",
       "      <td>RL</td>\n",
       "      <td>13650</td>\n",
       "      <td>Pave</td>\n",
       "      <td>NaN</td>\n",
       "      <td>Reg</td>\n",
       "      <td>Lvl</td>\n",
       "      <td>AllPub</td>\n",
       "      <td>Inside</td>\n",
       "      <td>...</td>\n",
       "      <td>NaN</td>\n",
       "      <td>NaN</td>\n",
       "      <td>NaN</td>\n",
       "      <td>0</td>\n",
       "      <td>7</td>\n",
       "      <td>2006</td>\n",
       "      <td>WD</td>\n",
       "      <td>Normal</td>\n",
       "      <td>172500</td>\n",
       "      <td>75.799522</td>\n",
       "    </tr>\n",
       "  </tbody>\n",
       "</table>\n",
       "<p>5 rows × 80 columns</p>\n",
       "</div>"
      ],
      "text/plain": [
       "    Id  MSSubClass MSZoning  LotArea Street Alley LotShape LandContour  \\\n",
       "0    8          60       RL    10382   Pave   NaN      IR1         Lvl   \n",
       "1   51          60       RL    13869   Pave   NaN      IR2         Lvl   \n",
       "2  112          80       RL     7750   Pave   NaN      IR1         Lvl   \n",
       "3  148          60       RL     9505   Pave   NaN      IR1         Lvl   \n",
       "4  178          50       RL    13650   Pave   NaN      Reg         Lvl   \n",
       "\n",
       "  Utilities LotConfig     ...      PoolQC Fence MiscFeature MiscVal MoSold  \\\n",
       "0    AllPub    Corner     ...         NaN   NaN        Shed     350     11   \n",
       "1    AllPub    Corner     ...         NaN   NaN         NaN       0      7   \n",
       "2    AllPub    Inside     ...         NaN   NaN         NaN       0      4   \n",
       "3    AllPub   CulDSac     ...         NaN   NaN         NaN       0      5   \n",
       "4    AllPub    Inside     ...         NaN   NaN         NaN       0      7   \n",
       "\n",
       "  YrSold  SaleType  SaleCondition  SalePrice  LotFrontage  \n",
       "0   2009        WD         Normal     200000    80.115468  \n",
       "1   2007        WD         Normal     177000    76.703758  \n",
       "2   2010        WD         Normal     180000    67.285313  \n",
       "3   2010        WD         Normal     222500    69.803112  \n",
       "4   2006        WD         Normal     172500    75.799522  \n",
       "\n",
       "[5 rows x 80 columns]"
      ]
     },
     "execution_count": 2,
     "metadata": {},
     "output_type": "execute_result"
    }
   ],
   "source": [
    "data = pd.read_csv('train_complete_prepared.csv')\n",
    "data.head()"
   ]
  },
  {
   "cell_type": "markdown",
   "metadata": {},
   "source": [
    "Lets build a dataframe that will contain the type and number of NAs that each feature contains. We will use it to decide what variables to select. We will now from there what features are numerical and categorical, and how many contain NAs."
   ]
  },
  {
   "cell_type": "code",
   "execution_count": 3,
   "metadata": {},
   "outputs": [
    {
     "name": "stdout",
     "output_type": "stream",
     "text": [
      "Available types: [dtype('int64') dtype('O') dtype('float64')]\n",
      "80 Features\n",
      "43 categorical features\n",
      "37 numerical features\n",
      "16 categorical features with NAs\n",
      "0 numerical features with NAs\n",
      "64 Complete features\n"
     ]
    }
   ],
   "source": [
    "def dataframe_metainformation(df):\n",
    "    meta = dict()\n",
    "    descr = pd.DataFrame({'dtype': df.dtypes, 'NAs': df.isna().sum()})\n",
    "    categorical_features = descr.loc[descr['dtype'] == 'object'].index.values.tolist()\n",
    "    numerical_features = descr.loc[descr['dtype'] != 'object'].index.values.tolist()\n",
    "    numerical_features_na = descr.loc[(descr['dtype'] != 'object') & (descr['NAs'] > 0)].index.values.tolist()\n",
    "    categorical_features_na = descr.loc[(descr['dtype'] == 'object') & (descr['NAs'] > 0)].index.values.tolist()\n",
    "    complete_features = descr.loc[descr['NAs'] == 0].index.values.tolist()\n",
    "    meta['description'] = descr\n",
    "    meta['categorical_features'] = categorical_features\n",
    "    meta['categorical_features'] = categorical_features\n",
    "    meta['categorical_features_na'] = categorical_features_na\n",
    "    meta['numerical_features'] = numerical_features\n",
    "    meta['numerical_features_na'] = numerical_features_na\n",
    "    meta['complete_features'] = complete_features\n",
    "    return meta\n",
    "\n",
    "def print_metainformation(meta):\n",
    "    print('Available types:', meta['description']['dtype'].unique())\n",
    "    print('{} Features'.format(meta['description'].shape[0]))\n",
    "    print('{} categorical features'.format(len(meta['categorical_features'])))\n",
    "    print('{} numerical features'.format(len(meta['numerical_features'])))\n",
    "    print('{} categorical features with NAs'.format(len(meta['categorical_features_na'])))\n",
    "    print('{} numerical features with NAs'.format(len(meta['numerical_features_na'])))\n",
    "    print('{} Complete features'.format(len(meta['complete_features'])))\n",
    "\n",
    "meta = dataframe_metainformation(data)\n",
    "print_metainformation(meta)"
   ]
  },
  {
   "cell_type": "markdown",
   "metadata": {},
   "source": [
    "Can we build a model that will predict the contents of one of those categorical columns with NAs? Let's try! I will start with `FireplaceQu` that presents a decent amount of NAs.\n",
    "\n",
    "Define **target** and **features** to hold the variable we want to predict and the features I can use (those with no NAs). We remove the `Id` from the list of features to be used by our model. Finally, we establish what is the source dataset, by using only those rows from `data` that are not equal to NA.\n",
    "\n",
    "Lastly, we will encode all categorical features (but the target) to have a proper setup for running the logistic regression. To encode, we'll use OneHotEncoding by calling `get_dummies`. The resulting dataset will have all numerical features."
   ]
  },
  {
   "cell_type": "code",
   "execution_count": 4,
   "metadata": {
    "scrolled": true
   },
   "outputs": [
    {
     "name": "stdout",
     "output_type": "stream",
     "text": [
      "Selecting 63 features\n",
      "Available types: [dtype('int64') dtype('O') dtype('float64')]\n",
      "64 Features\n",
      "28 categorical features\n",
      "36 numerical features\n",
      "0 categorical features with NAs\n",
      "0 numerical features with NAs\n",
      "64 Complete features\n"
     ]
    },
    {
     "data": {
      "text/html": [
       "<div>\n",
       "<style scoped>\n",
       "    .dataframe tbody tr th:only-of-type {\n",
       "        vertical-align: middle;\n",
       "    }\n",
       "\n",
       "    .dataframe tbody tr th {\n",
       "        vertical-align: top;\n",
       "    }\n",
       "\n",
       "    .dataframe thead th {\n",
       "        text-align: right;\n",
       "    }\n",
       "</style>\n",
       "<table border=\"1\" class=\"dataframe\">\n",
       "  <thead>\n",
       "    <tr style=\"text-align: right;\">\n",
       "      <th></th>\n",
       "      <th>MSSubClass</th>\n",
       "      <th>LotArea</th>\n",
       "      <th>OverallQual</th>\n",
       "      <th>OverallCond</th>\n",
       "      <th>YearBuilt</th>\n",
       "      <th>YearRemodAdd</th>\n",
       "      <th>MasVnrArea</th>\n",
       "      <th>BsmtFinSF1</th>\n",
       "      <th>BsmtFinSF2</th>\n",
       "      <th>BsmtUnfSF</th>\n",
       "      <th>...</th>\n",
       "      <th>SaleType_ConLD</th>\n",
       "      <th>SaleType_ConLI</th>\n",
       "      <th>SaleType_ConLw</th>\n",
       "      <th>SaleType_New</th>\n",
       "      <th>SaleType_WD</th>\n",
       "      <th>SaleCondition_Abnorml</th>\n",
       "      <th>SaleCondition_Alloca</th>\n",
       "      <th>SaleCondition_Family</th>\n",
       "      <th>SaleCondition_Normal</th>\n",
       "      <th>SaleCondition_Partial</th>\n",
       "    </tr>\n",
       "  </thead>\n",
       "  <tbody>\n",
       "    <tr>\n",
       "      <th>0</th>\n",
       "      <td>60</td>\n",
       "      <td>10382</td>\n",
       "      <td>7</td>\n",
       "      <td>6</td>\n",
       "      <td>1973</td>\n",
       "      <td>1973</td>\n",
       "      <td>240</td>\n",
       "      <td>859</td>\n",
       "      <td>32</td>\n",
       "      <td>216</td>\n",
       "      <td>...</td>\n",
       "      <td>0</td>\n",
       "      <td>0</td>\n",
       "      <td>0</td>\n",
       "      <td>0</td>\n",
       "      <td>1</td>\n",
       "      <td>0</td>\n",
       "      <td>0</td>\n",
       "      <td>0</td>\n",
       "      <td>1</td>\n",
       "      <td>0</td>\n",
       "    </tr>\n",
       "    <tr>\n",
       "      <th>2</th>\n",
       "      <td>80</td>\n",
       "      <td>7750</td>\n",
       "      <td>7</td>\n",
       "      <td>5</td>\n",
       "      <td>2000</td>\n",
       "      <td>2000</td>\n",
       "      <td>0</td>\n",
       "      <td>250</td>\n",
       "      <td>0</td>\n",
       "      <td>134</td>\n",
       "      <td>...</td>\n",
       "      <td>0</td>\n",
       "      <td>0</td>\n",
       "      <td>0</td>\n",
       "      <td>0</td>\n",
       "      <td>1</td>\n",
       "      <td>0</td>\n",
       "      <td>0</td>\n",
       "      <td>0</td>\n",
       "      <td>1</td>\n",
       "      <td>0</td>\n",
       "    </tr>\n",
       "    <tr>\n",
       "      <th>3</th>\n",
       "      <td>60</td>\n",
       "      <td>9505</td>\n",
       "      <td>7</td>\n",
       "      <td>5</td>\n",
       "      <td>2001</td>\n",
       "      <td>2001</td>\n",
       "      <td>180</td>\n",
       "      <td>0</td>\n",
       "      <td>0</td>\n",
       "      <td>884</td>\n",
       "      <td>...</td>\n",
       "      <td>0</td>\n",
       "      <td>0</td>\n",
       "      <td>0</td>\n",
       "      <td>0</td>\n",
       "      <td>1</td>\n",
       "      <td>0</td>\n",
       "      <td>0</td>\n",
       "      <td>0</td>\n",
       "      <td>1</td>\n",
       "      <td>0</td>\n",
       "    </tr>\n",
       "  </tbody>\n",
       "</table>\n",
       "<p>3 rows × 203 columns</p>\n",
       "</div>"
      ],
      "text/plain": [
       "   MSSubClass  LotArea  OverallQual  OverallCond  YearBuilt  YearRemodAdd  \\\n",
       "0          60    10382            7            6       1973          1973   \n",
       "2          80     7750            7            5       2000          2000   \n",
       "3          60     9505            7            5       2001          2001   \n",
       "\n",
       "   MasVnrArea  BsmtFinSF1  BsmtFinSF2  BsmtUnfSF          ...            \\\n",
       "0         240         859          32        216          ...             \n",
       "2           0         250           0        134          ...             \n",
       "3         180           0           0        884          ...             \n",
       "\n",
       "   SaleType_ConLD  SaleType_ConLI  SaleType_ConLw  SaleType_New  SaleType_WD  \\\n",
       "0               0               0               0             0            1   \n",
       "2               0               0               0             0            1   \n",
       "3               0               0               0             0            1   \n",
       "\n",
       "   SaleCondition_Abnorml  SaleCondition_Alloca  SaleCondition_Family  \\\n",
       "0                      0                     0                     0   \n",
       "2                      0                     0                     0   \n",
       "3                      0                     0                     0   \n",
       "\n",
       "   SaleCondition_Normal  SaleCondition_Partial  \n",
       "0                     1                      0  \n",
       "2                     1                      0  \n",
       "3                     1                      0  \n",
       "\n",
       "[3 rows x 203 columns]"
      ]
     },
     "execution_count": 4,
     "metadata": {},
     "output_type": "execute_result"
    }
   ],
   "source": [
    "target = 'FireplaceQu'\n",
    "features = meta['complete_features']\n",
    "features.remove('Id')\n",
    "print('Selecting {} features'.format(len(features)))\n",
    "\n",
    "data_complete = data.filter(features + [target])\n",
    "data_complete = data_complete[data_complete[target].notnull()]\n",
    "\n",
    "meta_complete = dataframe_metainformation(data_complete)\n",
    "print_metainformation(meta_complete)\n",
    "dummy_columns = meta_complete['categorical_features']\n",
    "dummy_columns.remove(target)\n",
    "data_encoded = pd.get_dummies(data_complete, columns=dummy_columns)\n",
    "data_encoded.head(3)"
   ]
  },
  {
   "cell_type": "markdown",
   "metadata": {},
   "source": [
    "How many occurences do we have from each class of the target variable?"
   ]
  },
  {
   "cell_type": "code",
   "execution_count": 5,
   "metadata": {},
   "outputs": [
    {
     "data": {
      "text/plain": [
       "<matplotlib.axes._subplots.AxesSubplot at 0x122998320>"
      ]
     },
     "execution_count": 5,
     "metadata": {},
     "output_type": "execute_result"
    },
    {
     "data": {
      "image/png": "[encoded data removed]",
      "text/plain": [
       "<Figure size 432x288 with 1 Axes>"
      ]
     },
     "metadata": {},
     "output_type": "display_data"
    }
   ],
   "source": [
    "sns.countplot(x='FireplaceQu', data=data_encoded)"
   ]
  },
  {
   "cell_type": "markdown",
   "metadata": {},
   "source": [
    "Since we've very few occurences of classes `Ex`, `Fa` and `Po`, we will remove them from the training set, and we will train our model to learn to classify only between `TA` or `Gd`."
   ]
  },
  {
   "cell_type": "code",
   "execution_count": 6,
   "metadata": {},
   "outputs": [
    {
     "data": {
      "image/png": "[encoded data removed]",
      "text/plain": [
       "<Figure size 432x288 with 1 Axes>"
      ]
     },
     "metadata": {},
     "output_type": "display_data"
    }
   ],
   "source": [
    "data_encoded = data_encoded[(data_encoded[target] != 'Ex') & \n",
    "                            (data_encoded[target] != 'Fa') & \n",
    "                            (data_encoded[target] != 'Po')]\n",
    "data_encoded[target] = data_encoded[target].map({'TA':0, 'Gd':1})\n",
    "sns.countplot(x='FireplaceQu', data=data_encoded);"
   ]
  },
  {
   "cell_type": "markdown",
   "metadata": {},
   "source": [
    "Set the list of features prepared"
   ]
  },
  {
   "cell_type": "code",
   "execution_count": 7,
   "metadata": {},
   "outputs": [],
   "source": [
    "features = list(data_encoded)\n",
    "features.remove(target)"
   ]
  },
  {
   "cell_type": "markdown",
   "metadata": {},
   "source": [
    "### Recursive Feature Elimination\n",
    "Recursive Feature Elimination (RFE) is based on the idea to repeatedly construct a model and choose either the best or worst performing feature, setting the feature aside and then repeating the process with the rest of the features. This process is applied until all features in the dataset are exhausted. The goal of RFE is to select features by recursively considering smaller and smaller sets of features."
   ]
  },
  {
   "cell_type": "code",
   "execution_count": 8,
   "metadata": {},
   "outputs": [
    {
     "name": "stdout",
     "output_type": "stream",
     "text": [
      "Selected features: ['LandContour_Bnk', 'Neighborhood_BrDale', 'Neighborhood_CollgCr', 'Neighborhood_Crawfor', 'Neighborhood_NWAmes', 'Neighborhood_NoRidge', 'Neighborhood_NridgHt', 'Neighborhood_SawyerW', 'RoofStyle_Hip', 'RoofMatl_Metal', 'Exterior1st_CemntBd', 'Exterior1st_MetalSd', 'Exterior2nd_Brk Cmn', 'SaleType_ConLw', 'SaleCondition_Normal']\n"
     ]
    }
   ],
   "source": [
    "from sklearn.exceptions import ConvergenceWarning\n",
    "import warnings\n",
    "\n",
    "X = data_encoded.loc[:, features]\n",
    "y = data_encoded.loc[:, target]\n",
    "warnings.filterwarnings(action='ignore', category=ConvergenceWarning)\n",
    "\n",
    "logreg = LogisticRegression(solver='lbfgs', max_iter=250)\n",
    "rfe = RFE(logreg, 15)\n",
    "rfe = rfe.fit(X, y)\n",
    "print('Selected features: {}'.format(list(data_encoded.loc[:, rfe.support_])))"
   ]
  },
  {
   "cell_type": "markdown",
   "metadata": {},
   "source": [
    "## Building the model"
   ]
  },
  {
   "cell_type": "code",
   "execution_count": 9,
   "metadata": {},
   "outputs": [
    {
     "name": "stdout",
     "output_type": "stream",
     "text": [
      "Warning: Maximum number of iterations has been exceeded.\n",
      "         Current function value: 0.569986\n",
      "         Iterations: 35\n",
      "         Function evaluations: 37\n",
      "         Gradient evaluations: 37\n",
      "                                   Results: Logit\n",
      "=====================================================================================\n",
      "Model:                      Logit                  Pseudo R-squared:       0.172     \n",
      "Dependent Variable:         FireplaceQu            AIC:                    818.0002  \n",
      "Date:                       2018-12-20 14:18       BIC:                    881.5747  \n",
      "No. Observations:           693                    Log-Likelihood:         -395.00   \n",
      "Df Model:                   13                     LL-Null:                -477.11   \n",
      "Df Residuals:               679                    LLR p-value:            2.7604e-28\n",
      "Converged:                  0.0000                 Scale:                  1.0000    \n",
      "-------------------------------------------------------------------------------------\n",
      "                      Coef.    Std.Err.      z    P>|z|      [0.025         0.975]   \n",
      "-------------------------------------------------------------------------------------\n",
      "LandContour_Bnk       0.4700       0.4213  1.1157 0.2646        -0.3557        1.2958\n",
      "Neighborhood_BrDale   0.0000 7693278.8448  0.0000 1.0000 -15078549.4588 15078549.4588\n",
      "Neighborhood_CollgCr -0.2441       0.2906 -0.8399 0.4010        -0.8136        0.3255\n",
      "Neighborhood_Crawfor  0.6860       0.3540  1.9382 0.0526        -0.0077        1.3798\n",
      "Neighborhood_NWAmes  -1.3925       0.3292 -4.2296 0.0000        -2.0378       -0.7472\n",
      "Neighborhood_NoRidge -2.3312       0.5577 -4.1801 0.0000        -3.4243       -1.2382\n",
      "Neighborhood_NridgHt  5.0659       1.8046  2.8072 0.0050         1.5289        8.6029\n",
      "Neighborhood_SawyerW -2.4897       0.7141 -3.4865 0.0005        -3.8894       -1.0901\n",
      "RoofStyle_Hip         0.4465       0.2046  2.1822 0.0291         0.0455        0.8476\n",
      "RoofMatl_Metal       -0.3643       2.0443 -0.1782 0.8586        -4.3710        3.6424\n",
      "Exterior1st_CemntBd   0.9379       0.4488  2.0898 0.0366         0.0583        1.8176\n",
      "Exterior1st_MetalSd   0.3001       0.2858  1.0499 0.2938        -0.2601        0.8602\n",
      "Exterior2nd_Brk Cmn  -1.2245       1.2121 -1.0102 0.3124        -3.6003        1.1513\n",
      "SaleType_ConLw       -0.0010       1.4804 -0.0007 0.9995        -2.9025        2.9006\n",
      "SaleCondition_Normal -0.0386       0.1206 -0.3198 0.7491        -0.2749        0.1978\n",
      "=====================================================================================\n",
      "\n"
     ]
    },
    {
     "name": "stderr",
     "output_type": "stream",
     "text": [
      "/Users/renero/miniconda3/lib/python3.6/site-packages/statsmodels/base/model.py:508: ConvergenceWarning: Maximum Likelihood optimization failed to converge. Check mle_retvals\n",
      "  \"Check mle_retvals\", ConvergenceWarning)\n"
     ]
    }
   ],
   "source": [
    "X = data_encoded.loc[:, list(data_encoded.loc[:, rfe.support_])]\n",
    "y = data_encoded.loc[:, target]\n",
    "\n",
    "logit_model=sm.Logit(y, X)\n",
    "result=logit_model.fit(method='bfgs')\n",
    "print(result.summary2())"
   ]
  },
  {
   "cell_type": "markdown",
   "metadata": {},
   "source": [
    "### P-Values and feature selection\n",
    "\n",
    "Remove those predictors with _p-values_ above 0.05\n",
    "\n",
    "Mark those features with a p-value higher thatn 0.05 (or close) to be removed from $X$, and run the logistic regression again to re-.check the p-values. From that point we'll be ready to run the model properly in sklearn."
   ]
  },
  {
   "cell_type": "code",
   "execution_count": 10,
   "metadata": {},
   "outputs": [
    {
     "name": "stdout",
     "output_type": "stream",
     "text": [
      "Warning: Maximum number of iterations has been exceeded.\n",
      "         Current function value: 0.580016\n",
      "         Iterations: 35\n",
      "         Function evaluations: 37\n",
      "         Gradient evaluations: 37\n",
      "                           Results: Logit\n",
      "====================================================================\n",
      "Model:               Logit             Pseudo R-squared:  0.158     \n",
      "Dependent Variable:  FireplaceQu       AIC:               815.9020  \n",
      "Date:                2018-12-20 14:18  BIC:               843.1482  \n",
      "No. Observations:    693               Log-Likelihood:    -401.95   \n",
      "Df Model:            5                 LL-Null:           -477.11   \n",
      "Df Residuals:        687               LLR p-value:       1.1457e-30\n",
      "Converged:           0.0000            Scale:             1.0000    \n",
      "--------------------------------------------------------------------\n",
      "                      Coef.  Std.Err.    z    P>|z|   [0.025  0.975]\n",
      "--------------------------------------------------------------------\n",
      "Neighborhood_NWAmes  -1.4400   0.3218 -4.4753 0.0000 -2.0706 -0.8093\n",
      "Neighborhood_NoRidge -2.0695   0.4980 -4.1558 0.0000 -3.0455 -1.0935\n",
      "Neighborhood_NridgHt  4.8843   1.6563  2.9489 0.0032  1.6380  8.1306\n",
      "Neighborhood_SawyerW -2.3253   0.6598 -3.5242 0.0004 -3.6185 -1.0321\n",
      "RoofStyle_Hip         0.4842   0.1876  2.5819 0.0098  0.1166  0.8518\n",
      "Exterior1st_CemntBd   0.8469   0.4286  1.9761 0.0481  0.0069  1.6869\n",
      "====================================================================\n",
      "\n"
     ]
    },
    {
     "name": "stderr",
     "output_type": "stream",
     "text": [
      "/Users/renero/miniconda3/lib/python3.6/site-packages/statsmodels/base/model.py:508: ConvergenceWarning: Maximum Likelihood optimization failed to converge. Check mle_retvals\n",
      "  \"Check mle_retvals\", ConvergenceWarning)\n"
     ]
    }
   ],
   "source": [
    "to_remove = result.pvalues[result.pvalues > 0.05].index.tolist()\n",
    "X.drop(to_remove, inplace=True, axis=1)\n",
    "\n",
    "logit_model=sm.Logit(y, X)\n",
    "result=logit_model.fit(method='bfgs')\n",
    "print(result.summary2())"
   ]
  },
  {
   "cell_type": "markdown",
   "metadata": {},
   "source": [
    "### The Logit model\n",
    "\n",
    "Here we train the model and evaluate on the test set. The interpretation of the results obtained by calling the `classification_report` are as follows:\n",
    "\n",
    "The **precision** is the ratio tp / (tp + fp) where tp is the number of true positives and fp the number of false positives. The precision is intuitively the ability of the classifier to not label a sample as positive if it is negative.\n",
    "\n",
    "The **recall** is the ratio tp / (tp + fn) where tp is the number of true positives and fn the number of false negatives. The recall is intuitively the ability of the classifier to find all the positive samples.\n",
    "\n",
    "The **F-beta** score can be interpreted as a weighted harmonic mean of the precision and recall, where an F-beta score reaches its best value at 1 and worst score at 0.\n",
    "\n",
    "The F-beta score weights the recall more than the precision by a factor of beta. beta = 1.0 means recall and precision are equally important.\n",
    "\n",
    "The **support** is the number of occurrences of each class in y_test."
   ]
  },
  {
   "cell_type": "code",
   "execution_count": 11,
   "metadata": {},
   "outputs": [
    {
     "name": "stdout",
     "output_type": "stream",
     "text": [
      "Accuracy on test: 0.64\n",
      "[[ 31  68]\n",
      " [  6 103]]\n",
      "             precision    recall  f1-score   support\n",
      "\n",
      "          0       0.84      0.31      0.46        99\n",
      "          1       0.60      0.94      0.74       109\n",
      "\n",
      "avg / total       0.71      0.64      0.60       208\n",
      "\n"
     ]
    }
   ],
   "source": [
    "X_train, X_test, y_train, y_test = train_test_split(X, y, \n",
    "                                                    test_size=0.3, \n",
    "                                                    random_state=0)\n",
    "logreg = LogisticRegression(solver='lbfgs')\n",
    "logreg.fit(X_train, y_train)\n",
    "\n",
    "y_pred = logreg.predict(X_test)\n",
    "print('Accuracy on test: {:.2f}'.format(logreg.score(X_test, y_test)))\n",
    "print(confusion_matrix(y_test, y_pred))\n",
    "print(classification_report(y_test, y_pred))"
   ]
  },
  {
   "cell_type": "markdown",
   "metadata": {},
   "source": [
    "### ROC Curve\n",
    "\n",
    "The receiver operating characteristic (ROC) curve is another common tool used with binary classifiers. The dotted line represents the ROC curve of a purely random classifier; a good classifier stays as far away from that line as possible (toward the top-left corner)."
   ]
  },
  {
   "cell_type": "code",
   "execution_count": 12,
   "metadata": {},
   "outputs": [
    {
     "data": {
      "image/png": "[encoded data removed]",
      "text/plain": [
       "<Figure size 432x288 with 1 Axes>"
      ]
     },
     "metadata": {},
     "output_type": "display_data"
    }
   ],
   "source": [
    "logit_roc_auc = roc_auc_score(y_test, logreg.predict(X_test))\n",
    "fpr, tpr, thresholds = roc_curve(y_test, logreg.predict_proba(X_test)[:,1])\n",
    "plt.figure()\n",
    "plt.plot(fpr, tpr, label='Logistic Regression (area = %0.2f)' % logit_roc_auc)\n",
    "plt.plot([0, 1], [0, 1], 'r--')\n",
    "plt.xlim([0.0, 1.05])\n",
    "plt.ylim([0.0, 1.05])\n",
    "plt.xlabel('False Positive Rate')\n",
    "plt.ylabel('True Positive Rate')\n",
    "plt.title('ROC curve')\n",
    "plt.legend(loc=\"lower right\")\n",
    "plt.savefig('Log_ROC')\n",
    "plt.show()"
   ]
  },
  {
   "cell_type": "markdown",
   "metadata": {},
   "source": [
    "The results are very poor, and what we've got shouldn't be used in production.\n",
    "\n",
    "The proposal from this point is:\n",
    "\n",
    "  1. to know more about how the predictions are made in logistic regression\n",
    "  2. apply a logit to predict if the price of a house will be higher or lower than a given value\n",
    "  \n",
    "### Explore logit predictions\n",
    "\n",
    "What you've seen is that we irectly call the method `predict` in `logit`, which will tell me to which class each sample is classified: 0 or 1. To accomplish this, the model produces two probabilities"
   ]
  },
  {
   "cell_type": "code",
   "execution_count": 13,
   "metadata": {},
   "outputs": [],
   "source": [
    "y_prob = logreg.predict_proba(X_test)"
   ]
  },
  {
   "cell_type": "code",
   "execution_count": 17,
   "metadata": {},
   "outputs": [
    {
     "name": "stdout",
     "output_type": "stream",
     "text": [
      "\n",
      "Threshold = 0.05. Testing accuracy is 0.52\n",
      "[[  0  99]\n",
      " [  0 109]]\n",
      "\n",
      "Threshold = 0.1. Testing accuracy is 0.52\n",
      "[[  0  99]\n",
      " [  0 109]]\n",
      "\n",
      "Threshold = 0.15. Testing accuracy is 0.52\n",
      "[[  0  99]\n",
      " [  0 109]]\n",
      "\n",
      "Threshold = 0.2. Testing accuracy is 0.52\n",
      "[[  0  99]\n",
      " [  0 109]]\n",
      "\n",
      "Threshold = 0.25. Testing accuracy is 0.62\n",
      "[[ 25  74]\n",
      " [  4 105]]\n",
      "\n",
      "Threshold = 0.3. Testing accuracy is 0.64\n",
      "[[ 31  68]\n",
      " [  6 103]]\n",
      "\n",
      "Threshold = 0.35. Testing accuracy is 0.64\n",
      "[[ 31  68]\n",
      " [  6 103]]\n",
      "\n",
      "Threshold = 0.4. Testing accuracy is 0.64\n",
      "[[ 31  68]\n",
      " [  6 103]]\n",
      "\n",
      "Threshold = 0.45. Testing accuracy is 0.64\n",
      "[[ 31  68]\n",
      " [  6 103]]\n",
      "\n",
      "Threshold = 0.5. Testing accuracy is 0.64\n",
      "[[ 31  68]\n",
      " [  6 103]]\n",
      "\n",
      "Threshold = 0.55. Testing accuracy is 0.64\n",
      "[[ 31  68]\n",
      " [  6 103]]\n",
      "\n",
      "Threshold = 0.6. Testing accuracy is 0.57\n",
      "[[84 15]\n",
      " [74 35]]\n",
      "\n",
      "Threshold = 0.65. Testing accuracy is 0.56\n",
      "[[97  2]\n",
      " [89 20]]\n",
      "\n",
      "Threshold = 0.7. Testing accuracy is 0.54\n",
      "[[99  0]\n",
      " [95 14]]\n",
      "\n",
      "Threshold = 0.75. Testing accuracy is 0.53\n",
      "[[99  0]\n",
      " [97 12]]\n",
      "\n",
      "Threshold = 0.8. Testing accuracy is 0.53\n",
      "[[99  0]\n",
      " [97 12]]\n",
      "\n",
      "Threshold = 0.85. Testing accuracy is 0.53\n",
      "[[99  0]\n",
      " [97 12]]\n",
      "\n",
      "Threshold = 0.9. Testing accuracy is 0.53\n",
      "[[99  0]\n",
      " [97 12]]\n",
      "\n",
      "Threshold = 0.95. Testing accuracy is 0.52\n",
      "[[ 99   0]\n",
      " [100   9]]\n",
      "\n",
      "Threshold = 0.99. Testing accuracy is 0.48\n",
      "[[ 99   0]\n",
      " [109   0]]\n"
     ]
    }
   ],
   "source": [
    "pred_proba_df = pd.DataFrame(logreg.predict_proba(X_test))\n",
    "threshold_list = [0.05,0.1,0.15,0.2,0.25,0.3,0.35,0.4,0.45,0.5,0.55,0.6,0.65,.7,.75,.8,.85,.9,.95,.99]\n",
    "for i in threshold_list:\n",
    "    print('\\nThreshold = {}. '.format(i), end='')\n",
    "    Y_test_pred = pred_proba_df.applymap(lambda x: 1 if x>i else 0)\n",
    "    test_accuracy = metrics.accuracy_score(y_test.values.reshape(y_test.values.size,1),\n",
    "                                           Y_test_pred.iloc[:,1].values.\\\n",
    "                                           reshape(Y_test_pred.iloc[:,1].values.size,1))\n",
    "    print('Testing accuracy is {:.2f}'.format(test_accuracy))\n",
    "\n",
    "    print(confusion_matrix(y_test.values.reshape(y_test.values.size,1),\n",
    "                           Y_test_pred.iloc[:,1].values.reshape(Y_test_pred.iloc[:,1].values.size,1)))"
   ]
  },
  {
   "cell_type": "code",
   "execution_count": null,
   "metadata": {},
   "outputs": [],
   "source": []
  }
 ],
 "metadata": {
  "kernelspec": {
   "display_name": "Python 3",
   "language": "python",
   "name": "python3"
  },
  "language_info": {
   "codemirror_mode": {
    "name": "ipython",
    "version": 3
   },
   "file_extension": ".py",
   "mimetype": "text/x-python",
   "name": "python",
   "nbconvert_exporter": "python",
   "pygments_lexer": "ipython3",
   "version": "3.6.5"
  }
 },
 "nbformat": 4,
 "nbformat_minor": 2
}

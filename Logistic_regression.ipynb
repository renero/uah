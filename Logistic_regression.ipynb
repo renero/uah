{
 "cells": [
  {
   "cell_type": "markdown",
   "metadata": {},
   "source": [
    "# Logistic Regression\n",
    "\n",
    "Logistic Regression is a Machine Learning classification algorithm that is used to predict the probability of a categorical dependent variable. In logistic regression, the dependent variable is a binary variable that contains data coded as 1 (yes, success, etc.) or 0 (no, failure, etc.). In other words, the logistic regression model predicts P(Y=1) as a function of X.\n",
    "\n",
    "It works very much the same way Linear Regression does, except that the optimization function is not OLS but [_maximum likelihood_](https://en.wikipedia.org/wiki/Maximum_likelihood_estimation).\n",
    "\n",
    "## Important considerations\n",
    "\n",
    "- We use logistic regression to train a model to predict between 2-classes: Yes/No, Black/White, True/False. If we need to predict more than two classes, we need to build some artifacts in logistic regression that will be explained at the end of this notebook.\n",
    "- No dependent variables should be among the set of features. Study the correlation between all the features separatedly.\n",
    "- Scaled, norm'd and centered input variables.\n",
    "\n",
    "The output from a logistic regression is always the log of the odds. We will explore this concept further along the exercise."
   ]
  },
  {
   "cell_type": "code",
   "execution_count": 15,
   "metadata": {},
   "outputs": [],
   "source": [
    "import pandas as pd\n",
    "import matplotlib.pyplot as plt\n",
    "import numpy as np\n",
    "import seaborn as sns\n",
    "import statsmodels.api as sm\n",
    "\n",
    "from sklearn import metrics\n",
    "from sklearn.preprocessing import OneHotEncoder, LabelEncoder, LabelBinarizer\n",
    "from sklearn.pipeline import make_pipeline\n",
    "from sklearn_pandas import DataFrameMapper\n",
    "from sklearn.feature_selection import RFE\n",
    "from sklearn.linear_model import LogisticRegression\n",
    "from sklearn.model_selection import train_test_split\n",
    "from sklearn.metrics import confusion_matrix, classification_report\n",
    "from sklearn.metrics import roc_auc_score, roc_curve"
   ]
  },
  {
   "cell_type": "code",
   "execution_count": 16,
   "metadata": {},
   "outputs": [
    {
     "data": {
      "text/html": [
       "<div>\n",
       "<style scoped>\n",
       "    .dataframe tbody tr th:only-of-type {\n",
       "        vertical-align: middle;\n",
       "    }\n",
       "\n",
       "    .dataframe tbody tr th {\n",
       "        vertical-align: top;\n",
       "    }\n",
       "\n",
       "    .dataframe thead th {\n",
       "        text-align: right;\n",
       "    }\n",
       "</style>\n",
       "<table border=\"1\" class=\"dataframe\">\n",
       "  <thead>\n",
       "    <tr style=\"text-align: right;\">\n",
       "      <th></th>\n",
       "      <th>Id</th>\n",
       "      <th>MSSubClass</th>\n",
       "      <th>MSZoning</th>\n",
       "      <th>LotArea</th>\n",
       "      <th>Street</th>\n",
       "      <th>Alley</th>\n",
       "      <th>LotShape</th>\n",
       "      <th>LandContour</th>\n",
       "      <th>Utilities</th>\n",
       "      <th>LotConfig</th>\n",
       "      <th>...</th>\n",
       "      <th>PoolQC</th>\n",
       "      <th>Fence</th>\n",
       "      <th>MiscFeature</th>\n",
       "      <th>MiscVal</th>\n",
       "      <th>MoSold</th>\n",
       "      <th>YrSold</th>\n",
       "      <th>SaleType</th>\n",
       "      <th>SaleCondition</th>\n",
       "      <th>SalePrice</th>\n",
       "      <th>LotFrontage</th>\n",
       "    </tr>\n",
       "  </thead>\n",
       "  <tbody>\n",
       "    <tr>\n",
       "      <th>0</th>\n",
       "      <td>8</td>\n",
       "      <td>60</td>\n",
       "      <td>RL</td>\n",
       "      <td>10382</td>\n",
       "      <td>Pave</td>\n",
       "      <td>NaN</td>\n",
       "      <td>IR1</td>\n",
       "      <td>Lvl</td>\n",
       "      <td>AllPub</td>\n",
       "      <td>Corner</td>\n",
       "      <td>...</td>\n",
       "      <td>NaN</td>\n",
       "      <td>NaN</td>\n",
       "      <td>Shed</td>\n",
       "      <td>350</td>\n",
       "      <td>11</td>\n",
       "      <td>2009</td>\n",
       "      <td>WD</td>\n",
       "      <td>Normal</td>\n",
       "      <td>200000</td>\n",
       "      <td>80.115468</td>\n",
       "    </tr>\n",
       "    <tr>\n",
       "      <th>1</th>\n",
       "      <td>51</td>\n",
       "      <td>60</td>\n",
       "      <td>RL</td>\n",
       "      <td>13869</td>\n",
       "      <td>Pave</td>\n",
       "      <td>NaN</td>\n",
       "      <td>IR2</td>\n",
       "      <td>Lvl</td>\n",
       "      <td>AllPub</td>\n",
       "      <td>Corner</td>\n",
       "      <td>...</td>\n",
       "      <td>NaN</td>\n",
       "      <td>NaN</td>\n",
       "      <td>NaN</td>\n",
       "      <td>0</td>\n",
       "      <td>7</td>\n",
       "      <td>2007</td>\n",
       "      <td>WD</td>\n",
       "      <td>Normal</td>\n",
       "      <td>177000</td>\n",
       "      <td>76.703758</td>\n",
       "    </tr>\n",
       "    <tr>\n",
       "      <th>2</th>\n",
       "      <td>112</td>\n",
       "      <td>80</td>\n",
       "      <td>RL</td>\n",
       "      <td>7750</td>\n",
       "      <td>Pave</td>\n",
       "      <td>NaN</td>\n",
       "      <td>IR1</td>\n",
       "      <td>Lvl</td>\n",
       "      <td>AllPub</td>\n",
       "      <td>Inside</td>\n",
       "      <td>...</td>\n",
       "      <td>NaN</td>\n",
       "      <td>NaN</td>\n",
       "      <td>NaN</td>\n",
       "      <td>0</td>\n",
       "      <td>4</td>\n",
       "      <td>2010</td>\n",
       "      <td>WD</td>\n",
       "      <td>Normal</td>\n",
       "      <td>180000</td>\n",
       "      <td>67.285313</td>\n",
       "    </tr>\n",
       "    <tr>\n",
       "      <th>3</th>\n",
       "      <td>148</td>\n",
       "      <td>60</td>\n",
       "      <td>RL</td>\n",
       "      <td>9505</td>\n",
       "      <td>Pave</td>\n",
       "      <td>NaN</td>\n",
       "      <td>IR1</td>\n",
       "      <td>Lvl</td>\n",
       "      <td>AllPub</td>\n",
       "      <td>CulDSac</td>\n",
       "      <td>...</td>\n",
       "      <td>NaN</td>\n",
       "      <td>NaN</td>\n",
       "      <td>NaN</td>\n",
       "      <td>0</td>\n",
       "      <td>5</td>\n",
       "      <td>2010</td>\n",
       "      <td>WD</td>\n",
       "      <td>Normal</td>\n",
       "      <td>222500</td>\n",
       "      <td>69.803112</td>\n",
       "    </tr>\n",
       "    <tr>\n",
       "      <th>4</th>\n",
       "      <td>178</td>\n",
       "      <td>50</td>\n",
       "      <td>RL</td>\n",
       "      <td>13650</td>\n",
       "      <td>Pave</td>\n",
       "      <td>NaN</td>\n",
       "      <td>Reg</td>\n",
       "      <td>Lvl</td>\n",
       "      <td>AllPub</td>\n",
       "      <td>Inside</td>\n",
       "      <td>...</td>\n",
       "      <td>NaN</td>\n",
       "      <td>NaN</td>\n",
       "      <td>NaN</td>\n",
       "      <td>0</td>\n",
       "      <td>7</td>\n",
       "      <td>2006</td>\n",
       "      <td>WD</td>\n",
       "      <td>Normal</td>\n",
       "      <td>172500</td>\n",
       "      <td>75.799522</td>\n",
       "    </tr>\n",
       "  </tbody>\n",
       "</table>\n",
       "<p>5 rows × 80 columns</p>\n",
       "</div>"
      ],
      "text/plain": [
       "    Id  MSSubClass MSZoning  LotArea Street Alley LotShape LandContour  \\\n",
       "0    8          60       RL    10382   Pave   NaN      IR1         Lvl   \n",
       "1   51          60       RL    13869   Pave   NaN      IR2         Lvl   \n",
       "2  112          80       RL     7750   Pave   NaN      IR1         Lvl   \n",
       "3  148          60       RL     9505   Pave   NaN      IR1         Lvl   \n",
       "4  178          50       RL    13650   Pave   NaN      Reg         Lvl   \n",
       "\n",
       "  Utilities LotConfig     ...      PoolQC Fence MiscFeature MiscVal MoSold  \\\n",
       "0    AllPub    Corner     ...         NaN   NaN        Shed     350     11   \n",
       "1    AllPub    Corner     ...         NaN   NaN         NaN       0      7   \n",
       "2    AllPub    Inside     ...         NaN   NaN         NaN       0      4   \n",
       "3    AllPub   CulDSac     ...         NaN   NaN         NaN       0      5   \n",
       "4    AllPub    Inside     ...         NaN   NaN         NaN       0      7   \n",
       "\n",
       "  YrSold  SaleType  SaleCondition  SalePrice  LotFrontage  \n",
       "0   2009        WD         Normal     200000    80.115468  \n",
       "1   2007        WD         Normal     177000    76.703758  \n",
       "2   2010        WD         Normal     180000    67.285313  \n",
       "3   2010        WD         Normal     222500    69.803112  \n",
       "4   2006        WD         Normal     172500    75.799522  \n",
       "\n",
       "[5 rows x 80 columns]"
      ]
     },
     "execution_count": 16,
     "metadata": {},
     "output_type": "execute_result"
    }
   ],
   "source": [
    "data = pd.read_csv('train_complete_prepared.csv')\n",
    "data.head()"
   ]
  },
  {
   "cell_type": "markdown",
   "metadata": {},
   "source": [
    "Lets build a dataframe that will contain the type and number of NAs that each feature contains. We will use it to decide what variables to select. We will now from there what features are numerical and categorical, and how many contain NAs."
   ]
  },
  {
   "cell_type": "code",
   "execution_count": 17,
   "metadata": {},
   "outputs": [
    {
     "name": "stdout",
     "output_type": "stream",
     "text": [
      "Available types: [dtype('int64') dtype('O') dtype('float64')]\n",
      "80 Features\n",
      "43 categorical features\n",
      "37 numerical features\n",
      "16 categorical features with NAs\n",
      "0 numerical features with NAs\n",
      "64 Complete features\n"
     ]
    }
   ],
   "source": [
    "def dataframe_metainformation(df):\n",
    "    meta = dict()\n",
    "    descr = pd.DataFrame({'dtype': df.dtypes, 'NAs': df.isna().sum()})\n",
    "    categorical_features = descr.loc[descr['dtype'] == 'object'].index.values.tolist()\n",
    "    numerical_features = descr.loc[descr['dtype'] != 'object'].index.values.tolist()\n",
    "    numerical_features_na = descr.loc[(descr['dtype'] != 'object') & (descr['NAs'] > 0)].index.values.tolist()\n",
    "    categorical_features_na = descr.loc[(descr['dtype'] == 'object') & (descr['NAs'] > 0)].index.values.tolist()\n",
    "    complete_features = descr.loc[descr['NAs'] == 0].index.values.tolist()\n",
    "    meta['description'] = descr\n",
    "    meta['categorical_features'] = categorical_features\n",
    "    meta['categorical_features'] = categorical_features\n",
    "    meta['categorical_features_na'] = categorical_features_na\n",
    "    meta['numerical_features'] = numerical_features\n",
    "    meta['numerical_features_na'] = numerical_features_na\n",
    "    meta['complete_features'] = complete_features\n",
    "    return meta\n",
    "\n",
    "def print_metainformation(meta):\n",
    "    print('Available types:', meta['description']['dtype'].unique())\n",
    "    print('{} Features'.format(meta['description'].shape[0]))\n",
    "    print('{} categorical features'.format(len(meta['categorical_features'])))\n",
    "    print('{} numerical features'.format(len(meta['numerical_features'])))\n",
    "    print('{} categorical features with NAs'.format(len(meta['categorical_features_na'])))\n",
    "    print('{} numerical features with NAs'.format(len(meta['numerical_features_na'])))\n",
    "    print('{} Complete features'.format(len(meta['complete_features'])))\n",
    "\n",
    "meta = dataframe_metainformation(data)\n",
    "print_metainformation(meta)"
   ]
  },
  {
   "cell_type": "markdown",
   "metadata": {},
   "source": [
    "Can we build a model that will predict the contents of one of those categorical columns with NAs? Let's try! I will start with `FireplaceQu` that presents a decent amount of NAs.\n",
    "\n",
    "Define **target** and **features** to hold the variable we want to predict and the features I can use (those with no NAs). We remove the `Id` from the list of features to be used by our model. Finally, we establish what is the source dataset, by using only those rows from `data` that are not equal to NA.\n",
    "\n",
    "Lastly, we will encode all categorical features (but the target) to have a proper setup for running the logistic regression. To encode, we'll use OneHotEncoding by calling `get_dummies`. The resulting dataset will have all numerical features."
   ]
  },
  {
   "cell_type": "code",
   "execution_count": 18,
   "metadata": {
    "scrolled": true
   },
   "outputs": [
    {
     "name": "stdout",
     "output_type": "stream",
     "text": [
      "Selecting 63 features\n",
      "Available types: [dtype('int64') dtype('O') dtype('float64')]\n",
      "64 Features\n",
      "28 categorical features\n",
      "36 numerical features\n",
      "0 categorical features with NAs\n",
      "0 numerical features with NAs\n",
      "64 Complete features\n"
     ]
    },
    {
     "data": {
      "text/html": [
       "<div>\n",
       "<style scoped>\n",
       "    .dataframe tbody tr th:only-of-type {\n",
       "        vertical-align: middle;\n",
       "    }\n",
       "\n",
       "    .dataframe tbody tr th {\n",
       "        vertical-align: top;\n",
       "    }\n",
       "\n",
       "    .dataframe thead th {\n",
       "        text-align: right;\n",
       "    }\n",
       "</style>\n",
       "<table border=\"1\" class=\"dataframe\">\n",
       "  <thead>\n",
       "    <tr style=\"text-align: right;\">\n",
       "      <th></th>\n",
       "      <th>MSSubClass</th>\n",
       "      <th>LotArea</th>\n",
       "      <th>OverallQual</th>\n",
       "      <th>OverallCond</th>\n",
       "      <th>YearBuilt</th>\n",
       "      <th>YearRemodAdd</th>\n",
       "      <th>MasVnrArea</th>\n",
       "      <th>BsmtFinSF1</th>\n",
       "      <th>BsmtFinSF2</th>\n",
       "      <th>BsmtUnfSF</th>\n",
       "      <th>...</th>\n",
       "      <th>SaleType_ConLD</th>\n",
       "      <th>SaleType_ConLI</th>\n",
       "      <th>SaleType_ConLw</th>\n",
       "      <th>SaleType_New</th>\n",
       "      <th>SaleType_WD</th>\n",
       "      <th>SaleCondition_Abnorml</th>\n",
       "      <th>SaleCondition_Alloca</th>\n",
       "      <th>SaleCondition_Family</th>\n",
       "      <th>SaleCondition_Normal</th>\n",
       "      <th>SaleCondition_Partial</th>\n",
       "    </tr>\n",
       "  </thead>\n",
       "  <tbody>\n",
       "    <tr>\n",
       "      <th>0</th>\n",
       "      <td>60</td>\n",
       "      <td>10382</td>\n",
       "      <td>7</td>\n",
       "      <td>6</td>\n",
       "      <td>1973</td>\n",
       "      <td>1973</td>\n",
       "      <td>240</td>\n",
       "      <td>859</td>\n",
       "      <td>32</td>\n",
       "      <td>216</td>\n",
       "      <td>...</td>\n",
       "      <td>0</td>\n",
       "      <td>0</td>\n",
       "      <td>0</td>\n",
       "      <td>0</td>\n",
       "      <td>1</td>\n",
       "      <td>0</td>\n",
       "      <td>0</td>\n",
       "      <td>0</td>\n",
       "      <td>1</td>\n",
       "      <td>0</td>\n",
       "    </tr>\n",
       "    <tr>\n",
       "      <th>2</th>\n",
       "      <td>80</td>\n",
       "      <td>7750</td>\n",
       "      <td>7</td>\n",
       "      <td>5</td>\n",
       "      <td>2000</td>\n",
       "      <td>2000</td>\n",
       "      <td>0</td>\n",
       "      <td>250</td>\n",
       "      <td>0</td>\n",
       "      <td>134</td>\n",
       "      <td>...</td>\n",
       "      <td>0</td>\n",
       "      <td>0</td>\n",
       "      <td>0</td>\n",
       "      <td>0</td>\n",
       "      <td>1</td>\n",
       "      <td>0</td>\n",
       "      <td>0</td>\n",
       "      <td>0</td>\n",
       "      <td>1</td>\n",
       "      <td>0</td>\n",
       "    </tr>\n",
       "    <tr>\n",
       "      <th>3</th>\n",
       "      <td>60</td>\n",
       "      <td>9505</td>\n",
       "      <td>7</td>\n",
       "      <td>5</td>\n",
       "      <td>2001</td>\n",
       "      <td>2001</td>\n",
       "      <td>180</td>\n",
       "      <td>0</td>\n",
       "      <td>0</td>\n",
       "      <td>884</td>\n",
       "      <td>...</td>\n",
       "      <td>0</td>\n",
       "      <td>0</td>\n",
       "      <td>0</td>\n",
       "      <td>0</td>\n",
       "      <td>1</td>\n",
       "      <td>0</td>\n",
       "      <td>0</td>\n",
       "      <td>0</td>\n",
       "      <td>1</td>\n",
       "      <td>0</td>\n",
       "    </tr>\n",
       "  </tbody>\n",
       "</table>\n",
       "<p>3 rows × 203 columns</p>\n",
       "</div>"
      ],
      "text/plain": [
       "   MSSubClass  LotArea  OverallQual  OverallCond  YearBuilt  YearRemodAdd  \\\n",
       "0          60    10382            7            6       1973          1973   \n",
       "2          80     7750            7            5       2000          2000   \n",
       "3          60     9505            7            5       2001          2001   \n",
       "\n",
       "   MasVnrArea  BsmtFinSF1  BsmtFinSF2  BsmtUnfSF          ...            \\\n",
       "0         240         859          32        216          ...             \n",
       "2           0         250           0        134          ...             \n",
       "3         180           0           0        884          ...             \n",
       "\n",
       "   SaleType_ConLD  SaleType_ConLI  SaleType_ConLw  SaleType_New  SaleType_WD  \\\n",
       "0               0               0               0             0            1   \n",
       "2               0               0               0             0            1   \n",
       "3               0               0               0             0            1   \n",
       "\n",
       "   SaleCondition_Abnorml  SaleCondition_Alloca  SaleCondition_Family  \\\n",
       "0                      0                     0                     0   \n",
       "2                      0                     0                     0   \n",
       "3                      0                     0                     0   \n",
       "\n",
       "   SaleCondition_Normal  SaleCondition_Partial  \n",
       "0                     1                      0  \n",
       "2                     1                      0  \n",
       "3                     1                      0  \n",
       "\n",
       "[3 rows x 203 columns]"
      ]
     },
     "execution_count": 18,
     "metadata": {},
     "output_type": "execute_result"
    }
   ],
   "source": [
    "target = 'FireplaceQu'\n",
    "features = meta['complete_features']\n",
    "features.remove('Id')\n",
    "print('Selecting {} features'.format(len(features)))\n",
    "\n",
    "data_complete = data.filter(features + [target])\n",
    "data_complete = data_complete[data_complete[target].notnull()]\n",
    "\n",
    "meta_complete = dataframe_metainformation(data_complete)\n",
    "print_metainformation(meta_complete)\n",
    "dummy_columns = meta_complete['categorical_features']\n",
    "dummy_columns.remove(target)\n",
    "data_encoded = pd.get_dummies(data_complete, columns=dummy_columns)\n",
    "data_encoded.head(3)"
   ]
  },
  {
   "cell_type": "markdown",
   "metadata": {},
   "source": [
    "How many occurences do we have from each class of the target variable?"
   ]
  },
  {
   "cell_type": "code",
   "execution_count": 19,
   "metadata": {},
   "outputs": [
    {
     "data": {
      "text/plain": [
       "<matplotlib.axes._subplots.AxesSubplot at 0x11641d9e8>"
      ]
     },
     "execution_count": 19,
     "metadata": {},
     "output_type": "execute_result"
    },
    {
     "data": {
      "image/png": "[encoded data removed]",
      "text/plain": [
       "<Figure size 432x288 with 1 Axes>"
      ]
     },
     "metadata": {},
     "output_type": "display_data"
    }
   ],
   "source": [
    "sns.countplot(x='FireplaceQu', data=data_encoded)"
   ]
  },
  {
   "cell_type": "markdown",
   "metadata": {},
   "source": [
    "Since we've very few occurences of classes `Ex`, `Fa` and `Po`, we will remove them from the training set, and we will train our model to learn to classify only between `TA` or `Gd`."
   ]
  },
  {
   "cell_type": "code",
   "execution_count": 20,
   "metadata": {},
   "outputs": [
    {
     "data": {
      "image/png": "[encoded data removed]",
      "text/plain": [
       "<Figure size 432x288 with 1 Axes>"
      ]
     },
     "metadata": {},
     "output_type": "display_data"
    }
   ],
   "source": [
    "data_encoded = data_encoded[(data_encoded[target] != 'Ex') & \n",
    "                            (data_encoded[target] != 'Fa') & \n",
    "                            (data_encoded[target] != 'Po')]\n",
    "data_encoded[target] = data_encoded[target].map({'TA':0, 'Gd':1})\n",
    "sns.countplot(x='FireplaceQu', data=data_encoded);"
   ]
  },
  {
   "cell_type": "markdown",
   "metadata": {},
   "source": [
    "Set the list of features prepared"
   ]
  },
  {
   "cell_type": "code",
   "execution_count": 21,
   "metadata": {},
   "outputs": [],
   "source": [
    "features = list(data_encoded)\n",
    "features.remove(target)"
   ]
  },
  {
   "cell_type": "markdown",
   "metadata": {},
   "source": [
    "### Recursive Feature Elimination\n",
    "Recursive Feature Elimination (RFE) is based on the idea to repeatedly construct a model and choose either the best or worst performing feature, setting the feature aside and then repeating the process with the rest of the features. This process is applied until all features in the dataset are exhausted. The goal of RFE is to select features by recursively considering smaller and smaller sets of features."
   ]
  },
  {
   "cell_type": "code",
   "execution_count": 22,
   "metadata": {},
   "outputs": [
    {
     "name": "stdout",
     "output_type": "stream",
     "text": [
      "(\"Selected features: ['MSZoning_RL', 'LandContour_Bnk', \"\n",
      " \"'Neighborhood_CollgCr', 'Neighborhood_Crawfor', 'Neighborhood_NWAmes', \"\n",
      " \"'Neighborhood_NoRidge', 'Neighborhood_SawyerW', 'Neighborhood_StoneBr', \"\n",
      " \"'RoofStyle_Hip', 'RoofMatl_Metal', 'Exterior1st_CemntBd', \"\n",
      " \"'Exterior1st_MetalSd', 'Exterior2nd_Brk Cmn', 'SaleType_ConLw', \"\n",
      " \"'SaleCondition_Normal']\")\n"
     ]
    }
   ],
   "source": [
    "from sklearn.exceptions import ConvergenceWarning\n",
    "import warnings\n",
    "from pprint import pprint\n",
    "\n",
    "X = data_encoded.loc[:, features]\n",
    "y = data_encoded.loc[:, target]\n",
    "warnings.filterwarnings(action='ignore', category=ConvergenceWarning)\n",
    "\n",
    "logreg = LogisticRegression(solver='lbfgs', max_iter=250)\n",
    "rfe = RFE(logreg, 15)\n",
    "rfe = rfe.fit(X, y)\n",
    "pprint('Selected features: {}'.format(list(data_encoded.loc[:, rfe.support_])))"
   ]
  },
  {
   "cell_type": "markdown",
   "metadata": {},
   "source": [
    "## Building the model"
   ]
  },
  {
   "cell_type": "code",
   "execution_count": 29,
   "metadata": {},
   "outputs": [
    {
     "name": "stdout",
     "output_type": "stream",
     "text": [
      "Warning: Maximum number of iterations has been exceeded.\n",
      "         Current function value: 0.607775\n",
      "         Iterations: 35\n",
      "                                   Results: Logit\n",
      "====================================================================================\n",
      "Model:                     Logit                   No. Iterations:          35.0000 \n",
      "Dependent Variable:        FireplaceQu             Pseudo R-squared:        0.117   \n",
      "Date:                      2018-12-20 08:03        AIC:                     872.3762\n",
      "No. Observations:          693                     BIC:                     940.4917\n",
      "Df Model:                  14                      Log-Likelihood:          -421.19 \n",
      "Df Residuals:              678                     LL-Null:                 -477.11 \n",
      "Converged:                 0.0000                  Scale:                   1.0000  \n",
      "------------------------------------------------------------------------------------\n",
      "                      Coef.     Std.Err.      z    P>|z|      [0.025       0.975]   \n",
      "------------------------------------------------------------------------------------\n",
      "MSZoning_RL            0.5809       0.1846  3.1466 0.0017        0.2191       0.9428\n",
      "LandContour_Bnk        0.3378       0.4230  0.7984 0.4246       -0.4913       1.1669\n",
      "Neighborhood_CollgCr  -0.5345       0.2965 -1.8024 0.0715       -1.1157       0.0467\n",
      "Neighborhood_Crawfor   0.4218       0.3607  1.1694 0.2422       -0.2852       1.1289\n",
      "Neighborhood_NWAmes   -1.7639       0.3355 -5.2574 0.0000       -2.4215      -1.1063\n",
      "Neighborhood_NoRidge  -2.3534       0.4992 -4.7145 0.0000       -3.3318      -1.3750\n",
      "Neighborhood_SawyerW  -2.4371       0.6237 -3.9073 0.0001       -3.6596      -1.2146\n",
      "Neighborhood_StoneBr  -0.1208       0.5313 -0.2274 0.8201       -1.1621       0.9205\n",
      "RoofStyle_Hip          0.4923       0.1998  2.4641 0.0137        0.1007       0.8839\n",
      "RoofMatl_Metal       -28.8478 1633011.8380 -0.0000 1.0000 -3200673.2365 3200615.5410\n",
      "Exterior1st_CemntBd    1.0040       0.4386  2.2888 0.0221        0.1443       1.8637\n",
      "Exterior1st_MetalSd    0.3747       0.2762  1.3566 0.1749       -0.1666       0.9159\n",
      "Exterior2nd_Brk Cmn  -21.4358   20066.9529 -0.0011 0.9991   -39351.9409   39309.0692\n",
      "SaleType_ConLw         0.6046       1.2500  0.4837 0.6286       -1.8454       3.0546\n",
      "SaleCondition_Normal  -0.3451       0.1794 -1.9238 0.0544       -0.6966       0.0065\n",
      "====================================================================================\n",
      "\n"
     ]
    },
    {
     "name": "stderr",
     "output_type": "stream",
     "text": [
      "/Users/renero/Code/anaconda3/lib/python3.6/site-packages/statsmodels/base/model.py:496: ConvergenceWarning: Maximum Likelihood optimization failed to converge. Check mle_retvals\n",
      "  \"Check mle_retvals\", ConvergenceWarning)\n"
     ]
    }
   ],
   "source": [
    "X = data_encoded.loc[:, list(data_encoded.loc[:, rfe.support_])]\n",
    "y = data_encoded.loc[:, target]\n",
    "\n",
    "logit_model=sm.Logit(y, X)\n",
    "result=logit_model.fit()\n",
    "print(result.summary2())"
   ]
  },
  {
   "cell_type": "markdown",
   "metadata": {},
   "source": [
    "### P-Values and feature selection\n",
    "\n",
    "Remove those predictors with _p-values_ above 0.05"
   ]
  },
  {
   "cell_type": "markdown",
   "metadata": {},
   "source": [
    "Mark those features with a p-value higher thatn 0.05 (or close) to be removed from $X$, and run the logistic regression again to re-.check the p-values. From that point we'll be ready to run the model properly in sklearn."
   ]
  },
  {
   "cell_type": "code",
   "execution_count": 24,
   "metadata": {},
   "outputs": [
    {
     "name": "stdout",
     "output_type": "stream",
     "text": [
      "Optimization terminated successfully.\n",
      "         Current function value: 0.619868\n",
      "         Iterations 6\n",
      "                           Results: Logit\n",
      "====================================================================\n",
      "Model:                 Logit             No. Iterations:    6.0000  \n",
      "Dependent Variable:    FireplaceQu       Pseudo R-squared:  0.100   \n",
      "Date:                  2018-12-20 07:57  AIC:               873.1368\n",
      "No. Observations:      693               BIC:               904.9240\n",
      "Df Model:              6                 Log-Likelihood:    -429.57 \n",
      "Df Residuals:          686               LL-Null:           -477.11 \n",
      "Converged:             1.0000            Scale:             1.0000  \n",
      "--------------------------------------------------------------------\n",
      "                      Coef.  Std.Err.    z    P>|z|   [0.025  0.975]\n",
      "--------------------------------------------------------------------\n",
      "MSZoning_RL           0.3556   0.1095  3.2470 0.0012  0.1409  0.5702\n",
      "Neighborhood_CollgCr -0.5919   0.2902 -2.0393 0.0414 -1.1608 -0.0230\n",
      "Neighborhood_NWAmes  -1.8189   0.3323 -5.4741 0.0000 -2.4702 -1.1677\n",
      "Neighborhood_NoRidge -2.4028   0.4964 -4.8408 0.0000 -3.3757 -1.4300\n",
      "Neighborhood_SawyerW -2.4919   0.6213 -4.0106 0.0001 -3.7098 -1.2741\n",
      "RoofStyle_Hip         0.5137   0.1972  2.6050 0.0092  0.1272  0.9002\n",
      "Exterior1st_CemntBd   0.9298   0.4270  2.1778 0.0294  0.0930  1.7667\n",
      "====================================================================\n",
      "\n"
     ]
    }
   ],
   "source": [
    "to_remove = ['RoofMatl_Metal','Exterior2nd_Brk Cmn',\n",
    "             'Exterior1st_MetalSd', 'SaleType_ConLw', \n",
    "             'Neighborhood_StoneBr', 'Neighborhood_Crawfor',\n",
    "             'LandContour_Bnk', 'SaleCondition_Normal']\n",
    "X.drop(to_remove, inplace=True, axis=1)\n",
    "\n",
    "logit_model=sm.Logit(y, X)\n",
    "result=logit_model.fit()\n",
    "print(result.summary2())"
   ]
  },
  {
   "cell_type": "markdown",
   "metadata": {},
   "source": [
    "### The Logit model\n",
    "\n",
    "Here we train the model and evaluate on the test set. The interpretation of the results obtained by calling the `classification_report` are as follows:\n",
    "\n",
    "The **precision** is the ratio tp / (tp + fp) where tp is the number of true positives and fp the number of false positives. The precision is intuitively the ability of the classifier to not label a sample as positive if it is negative.\n",
    "\n",
    "The **recall** is the ratio tp / (tp + fn) where tp is the number of true positives and fn the number of false negatives. The recall is intuitively the ability of the classifier to find all the positive samples.\n",
    "\n",
    "The **F-beta** score can be interpreted as a weighted harmonic mean of the precision and recall, where an F-beta score reaches its best value at 1 and worst score at 0.\n",
    "\n",
    "The F-beta score weights the recall more than the precision by a factor of beta. beta = 1.0 means recall and precision are equally important.\n",
    "\n",
    "The **support** is the number of occurrences of each class in y_test."
   ]
  },
  {
   "cell_type": "code",
   "execution_count": 25,
   "metadata": {},
   "outputs": [
    {
     "name": "stdout",
     "output_type": "stream",
     "text": [
      "Accuracy on test: 0.64\n",
      "[[36 63]\n",
      " [11 98]]\n",
      "              precision    recall  f1-score   support\n",
      "\n",
      "           0       0.77      0.36      0.49        99\n",
      "           1       0.61      0.90      0.73       109\n",
      "\n",
      "   micro avg       0.64      0.64      0.64       208\n",
      "   macro avg       0.69      0.63      0.61       208\n",
      "weighted avg       0.68      0.64      0.62       208\n",
      "\n"
     ]
    }
   ],
   "source": [
    "X_train, X_test, y_train, y_test = train_test_split(X, y, \n",
    "                                                    test_size=0.3, \n",
    "                                                    random_state=0)\n",
    "logreg = LogisticRegression(solver='lbfgs')\n",
    "logreg.fit(X_train, y_train)\n",
    "\n",
    "y_pred = logreg.predict(X_test)\n",
    "print('Accuracy on test: {:.2f}'.format(logreg.score(X_test, y_test)))\n",
    "cm = confusion_matrix(y_test, y_pred)\n",
    "print(cm)\n",
    "from sklearn.metrics import classification_report\n",
    "print(classification_report(y_test, y_pred))"
   ]
  },
  {
   "cell_type": "markdown",
   "metadata": {},
   "source": [
    "### ROC Curve"
   ]
  },
  {
   "cell_type": "markdown",
   "metadata": {},
   "source": [
    "The receiver operating characteristic (ROC) curve is another common tool used with binary classifiers. The dotted line represents the ROC curve of a purely random classifier; a good classifier stays as far away from that line as possible (toward the top-left corner)."
   ]
  },
  {
   "cell_type": "code",
   "execution_count": 26,
   "metadata": {},
   "outputs": [
    {
     "data": {
      "image/png": "[encoded data removed]",
      "text/plain": [
       "<Figure size 432x288 with 1 Axes>"
      ]
     },
     "metadata": {},
     "output_type": "display_data"
    }
   ],
   "source": [
    "logit_roc_auc = roc_auc_score(y_test, logreg.predict(X_test))\n",
    "fpr, tpr, thresholds = roc_curve(y_test, logreg.predict_proba(X_test)[:,1])\n",
    "plt.figure()\n",
    "plt.plot(fpr, tpr, label='Logistic Regression (area = %0.2f)' % logit_roc_auc)\n",
    "plt.plot([0, 1], [0, 1],'r--')\n",
    "plt.xlim([0.0, 1.0])\n",
    "plt.ylim([0.0, 1.05])\n",
    "plt.xlabel('False Positive Rate')\n",
    "plt.ylabel('True Positive Rate')\n",
    "plt.title('ROC curve')\n",
    "plt.legend(loc=\"lower right\")\n",
    "plt.savefig('Log_ROC')\n",
    "plt.show()"
   ]
  },
  {
   "cell_type": "code",
   "execution_count": null,
   "metadata": {},
   "outputs": [],
   "source": []
  }
 ],
 "metadata": {
  "kernelspec": {
   "display_name": "Python 3",
   "language": "python",
   "name": "python3"
  },
  "language_info": {
   "codemirror_mode": {
    "name": "ipython",
    "version": 3
   },
   "file_extension": ".py",
   "mimetype": "text/x-python",
   "name": "python",
   "nbconvert_exporter": "python",
   "pygments_lexer": "ipython3",
   "version": "3.6.5"
  }
 },
 "nbformat": 4,
 "nbformat_minor": 2
}

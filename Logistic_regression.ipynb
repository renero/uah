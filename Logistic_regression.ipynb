{
 "cells": [
  {
   "cell_type": "markdown",
   "metadata": {
    "slideshow": {
     "slide_type": "slide"
    }
   },
   "source": [
    "# Logistic Regression\n",
    "\n",
    "Logistic Regression is a Machine Learning classification algorithm that is used to predict the probability of a categorical dependent variable. In logistic regression, the dependent variable is a binary variable that contains data coded as 1 (yes, success, etc.) or 0 (no, failure, etc.). In other words, the logistic regression model predicts P(Y=1) as a function of X.\n",
    "\n",
    "It works very much the same way Linear Regression does, except that the optimization function is not OLS but [_maximum likelihood_](https://en.wikipedia.org/wiki/Maximum_likelihood_estimation)."
   ]
  },
  {
   "cell_type": "markdown",
   "metadata": {
    "slideshow": {
     "slide_type": "slide"
    }
   },
   "source": [
    "## Important considerations\n",
    "\n",
    "- We use logistic regression to train a model to predict between 2-classes: Yes/No, Black/White, True/False. If we need to predict more than two classes, we need to build some artifacts in logistic regression that will be explained at the end of this notebook.\n",
    "- No dependent variables should be among the set of features. Study the correlation between all the features separatedly.\n",
    "- Scaled, norm'd and centered input variables.\n",
    "\n",
    "The output from a logistic regression is always the log of the odds. We will explore this concept further along the exercise."
   ]
  },
  {
   "cell_type": "code",
   "execution_count": 1,
   "metadata": {
    "slideshow": {
     "slide_type": "skip"
    }
   },
   "outputs": [
    {
     "name": "stderr",
     "output_type": "stream",
     "text": [
      "/Users/renero/Code/anaconda3/lib/python3.6/site-packages/statsmodels/compat/pandas.py:56: FutureWarning: The pandas.core.datetools module is deprecated and will be removed in a future version. Please use the pandas.tseries module instead.\n",
      "  from pandas.core import datetools\n"
     ]
    }
   ],
   "source": [
    "import pandas as pd\n",
    "import matplotlib.pyplot as plt\n",
    "import numpy as np\n",
    "import seaborn as sns\n",
    "import statsmodels.api as sm\n",
    "\n",
    "from sklearn import metrics\n",
    "from sklearn.preprocessing import OneHotEncoder, LabelEncoder, LabelBinarizer\n",
    "from sklearn.pipeline import make_pipeline\n",
    "from sklearn_pandas import DataFrameMapper\n",
    "from sklearn.feature_selection import RFE\n",
    "from sklearn.linear_model import LogisticRegression\n",
    "from sklearn.model_selection import train_test_split\n",
    "from sklearn.metrics import confusion_matrix, classification_report\n",
    "from sklearn.metrics import roc_auc_score, roc_curve, accuracy_score\n",
    "from matplotlib.gridspec import GridSpec"
   ]
  },
  {
   "cell_type": "code",
   "execution_count": 2,
   "metadata": {
    "slideshow": {
     "slide_type": "slide"
    }
   },
   "outputs": [
    {
     "data": {
      "text/html": [
       "<div>\n",
       "<style scoped>\n",
       "    .dataframe tbody tr th:only-of-type {\n",
       "        vertical-align: middle;\n",
       "    }\n",
       "\n",
       "    .dataframe tbody tr th {\n",
       "        vertical-align: top;\n",
       "    }\n",
       "\n",
       "    .dataframe thead th {\n",
       "        text-align: right;\n",
       "    }\n",
       "</style>\n",
       "<table border=\"1\" class=\"dataframe\">\n",
       "  <thead>\n",
       "    <tr style=\"text-align: right;\">\n",
       "      <th></th>\n",
       "      <th>Id</th>\n",
       "      <th>MSSubClass</th>\n",
       "      <th>MSZoning</th>\n",
       "      <th>LotArea</th>\n",
       "      <th>Street</th>\n",
       "      <th>Alley</th>\n",
       "      <th>LotShape</th>\n",
       "      <th>LandContour</th>\n",
       "      <th>Utilities</th>\n",
       "      <th>LotConfig</th>\n",
       "      <th>...</th>\n",
       "      <th>PoolQC</th>\n",
       "      <th>Fence</th>\n",
       "      <th>MiscFeature</th>\n",
       "      <th>MiscVal</th>\n",
       "      <th>MoSold</th>\n",
       "      <th>YrSold</th>\n",
       "      <th>SaleType</th>\n",
       "      <th>SaleCondition</th>\n",
       "      <th>SalePrice</th>\n",
       "      <th>LotFrontage</th>\n",
       "    </tr>\n",
       "  </thead>\n",
       "  <tbody>\n",
       "    <tr>\n",
       "      <th>0</th>\n",
       "      <td>8</td>\n",
       "      <td>60</td>\n",
       "      <td>RL</td>\n",
       "      <td>10382</td>\n",
       "      <td>Pave</td>\n",
       "      <td>NaN</td>\n",
       "      <td>IR1</td>\n",
       "      <td>Lvl</td>\n",
       "      <td>AllPub</td>\n",
       "      <td>Corner</td>\n",
       "      <td>...</td>\n",
       "      <td>NaN</td>\n",
       "      <td>NaN</td>\n",
       "      <td>Shed</td>\n",
       "      <td>350</td>\n",
       "      <td>11</td>\n",
       "      <td>2009</td>\n",
       "      <td>WD</td>\n",
       "      <td>Normal</td>\n",
       "      <td>200000</td>\n",
       "      <td>80.115468</td>\n",
       "    </tr>\n",
       "    <tr>\n",
       "      <th>1</th>\n",
       "      <td>51</td>\n",
       "      <td>60</td>\n",
       "      <td>RL</td>\n",
       "      <td>13869</td>\n",
       "      <td>Pave</td>\n",
       "      <td>NaN</td>\n",
       "      <td>IR2</td>\n",
       "      <td>Lvl</td>\n",
       "      <td>AllPub</td>\n",
       "      <td>Corner</td>\n",
       "      <td>...</td>\n",
       "      <td>NaN</td>\n",
       "      <td>NaN</td>\n",
       "      <td>NaN</td>\n",
       "      <td>0</td>\n",
       "      <td>7</td>\n",
       "      <td>2007</td>\n",
       "      <td>WD</td>\n",
       "      <td>Normal</td>\n",
       "      <td>177000</td>\n",
       "      <td>76.703758</td>\n",
       "    </tr>\n",
       "    <tr>\n",
       "      <th>2</th>\n",
       "      <td>112</td>\n",
       "      <td>80</td>\n",
       "      <td>RL</td>\n",
       "      <td>7750</td>\n",
       "      <td>Pave</td>\n",
       "      <td>NaN</td>\n",
       "      <td>IR1</td>\n",
       "      <td>Lvl</td>\n",
       "      <td>AllPub</td>\n",
       "      <td>Inside</td>\n",
       "      <td>...</td>\n",
       "      <td>NaN</td>\n",
       "      <td>NaN</td>\n",
       "      <td>NaN</td>\n",
       "      <td>0</td>\n",
       "      <td>4</td>\n",
       "      <td>2010</td>\n",
       "      <td>WD</td>\n",
       "      <td>Normal</td>\n",
       "      <td>180000</td>\n",
       "      <td>67.285313</td>\n",
       "    </tr>\n",
       "    <tr>\n",
       "      <th>3</th>\n",
       "      <td>148</td>\n",
       "      <td>60</td>\n",
       "      <td>RL</td>\n",
       "      <td>9505</td>\n",
       "      <td>Pave</td>\n",
       "      <td>NaN</td>\n",
       "      <td>IR1</td>\n",
       "      <td>Lvl</td>\n",
       "      <td>AllPub</td>\n",
       "      <td>CulDSac</td>\n",
       "      <td>...</td>\n",
       "      <td>NaN</td>\n",
       "      <td>NaN</td>\n",
       "      <td>NaN</td>\n",
       "      <td>0</td>\n",
       "      <td>5</td>\n",
       "      <td>2010</td>\n",
       "      <td>WD</td>\n",
       "      <td>Normal</td>\n",
       "      <td>222500</td>\n",
       "      <td>69.803112</td>\n",
       "    </tr>\n",
       "    <tr>\n",
       "      <th>4</th>\n",
       "      <td>178</td>\n",
       "      <td>50</td>\n",
       "      <td>RL</td>\n",
       "      <td>13650</td>\n",
       "      <td>Pave</td>\n",
       "      <td>NaN</td>\n",
       "      <td>Reg</td>\n",
       "      <td>Lvl</td>\n",
       "      <td>AllPub</td>\n",
       "      <td>Inside</td>\n",
       "      <td>...</td>\n",
       "      <td>NaN</td>\n",
       "      <td>NaN</td>\n",
       "      <td>NaN</td>\n",
       "      <td>0</td>\n",
       "      <td>7</td>\n",
       "      <td>2006</td>\n",
       "      <td>WD</td>\n",
       "      <td>Normal</td>\n",
       "      <td>172500</td>\n",
       "      <td>75.799522</td>\n",
       "    </tr>\n",
       "  </tbody>\n",
       "</table>\n",
       "<p>5 rows × 80 columns</p>\n",
       "</div>"
      ],
      "text/plain": [
       "    Id  MSSubClass MSZoning  LotArea Street Alley LotShape LandContour  \\\n",
       "0    8          60       RL    10382   Pave   NaN      IR1         Lvl   \n",
       "1   51          60       RL    13869   Pave   NaN      IR2         Lvl   \n",
       "2  112          80       RL     7750   Pave   NaN      IR1         Lvl   \n",
       "3  148          60       RL     9505   Pave   NaN      IR1         Lvl   \n",
       "4  178          50       RL    13650   Pave   NaN      Reg         Lvl   \n",
       "\n",
       "  Utilities LotConfig     ...      PoolQC Fence MiscFeature MiscVal MoSold  \\\n",
       "0    AllPub    Corner     ...         NaN   NaN        Shed     350     11   \n",
       "1    AllPub    Corner     ...         NaN   NaN         NaN       0      7   \n",
       "2    AllPub    Inside     ...         NaN   NaN         NaN       0      4   \n",
       "3    AllPub   CulDSac     ...         NaN   NaN         NaN       0      5   \n",
       "4    AllPub    Inside     ...         NaN   NaN         NaN       0      7   \n",
       "\n",
       "  YrSold  SaleType  SaleCondition  SalePrice  LotFrontage  \n",
       "0   2009        WD         Normal     200000    80.115468  \n",
       "1   2007        WD         Normal     177000    76.703758  \n",
       "2   2010        WD         Normal     180000    67.285313  \n",
       "3   2010        WD         Normal     222500    69.803112  \n",
       "4   2006        WD         Normal     172500    75.799522  \n",
       "\n",
       "[5 rows x 80 columns]"
      ]
     },
     "execution_count": 2,
     "metadata": {},
     "output_type": "execute_result"
    }
   ],
   "source": [
    "data = pd.read_csv('train_complete_prepared.csv.gz')\n",
    "data.head()"
   ]
  },
  {
   "cell_type": "markdown",
   "metadata": {
    "slideshow": {
     "slide_type": "slide"
    }
   },
   "source": [
    "Lets build a dataframe that will contain the type and number of NAs that each feature contains. We will use it to decide what variables to select. We will now from there what features are numerical and categorical, and how many contain NAs."
   ]
  },
  {
   "cell_type": "code",
   "execution_count": 3,
   "metadata": {
    "slideshow": {
     "slide_type": "skip"
    }
   },
   "outputs": [],
   "source": [
    "def dataframe_metainformation(df):\n",
    "    meta = dict()\n",
    "    descr = pd.DataFrame({'dtype': df.dtypes, 'NAs': df.isna().sum()})\n",
    "    categorical_features = descr.loc[descr['dtype'] == 'object'].index.values.tolist()\n",
    "    numerical_features = descr.loc[descr['dtype'] != 'object'].index.values.tolist()\n",
    "    numerical_features_na = descr.loc[(descr['dtype'] != 'object') & (descr['NAs'] > 0)].index.values.tolist()\n",
    "    categorical_features_na = descr.loc[(descr['dtype'] == 'object') & (descr['NAs'] > 0)].index.values.tolist()\n",
    "    complete_features = descr.loc[descr['NAs'] == 0].index.values.tolist()\n",
    "    meta['description'] = descr\n",
    "    meta['categorical_features'] = categorical_features\n",
    "    meta['categorical_features'] = categorical_features\n",
    "    meta['categorical_features_na'] = categorical_features_na\n",
    "    meta['numerical_features'] = numerical_features\n",
    "    meta['numerical_features_na'] = numerical_features_na\n",
    "    meta['complete_features'] = complete_features\n",
    "    return meta\n",
    "\n",
    "def print_metainformation(meta):\n",
    "    print('Available types:', meta['description']['dtype'].unique())\n",
    "    print('{} Features'.format(meta['description'].shape[0]))\n",
    "    print('{} categorical features'.format(len(meta['categorical_features'])))\n",
    "    print('{} numerical features'.format(len(meta['numerical_features'])))\n",
    "    print('{} categorical features with NAs'.format(len(meta['categorical_features_na'])))\n",
    "    print('{} numerical features with NAs'.format(len(meta['numerical_features_na'])))\n",
    "    print('{} Complete features'.format(len(meta['complete_features'])))"
   ]
  },
  {
   "cell_type": "code",
   "execution_count": 4,
   "metadata": {},
   "outputs": [
    {
     "name": "stdout",
     "output_type": "stream",
     "text": [
      "Available types: [dtype('int64') dtype('O') dtype('float64')]\n",
      "80 Features\n",
      "43 categorical features\n",
      "37 numerical features\n",
      "16 categorical features with NAs\n",
      "0 numerical features with NAs\n",
      "64 Complete features\n"
     ]
    }
   ],
   "source": [
    "meta = dataframe_metainformation(data)\n",
    "print_metainformation(meta)"
   ]
  },
  {
   "cell_type": "markdown",
   "metadata": {
    "slideshow": {
     "slide_type": "slide"
    }
   },
   "source": [
    "#### Can we build a model that will predict the contents of one of those categorical columns with NAs?\n",
    "\n",
    "Let's try! I will start with `FireplaceQu` that presents a decent amount of NAs.\n",
    "\n",
    "Define **target** and **features** to hold the variable we want to predict and the features I can use (those with no NAs). We remove the `Id` from the list of features to be used by our model. Finally, we establish what is the source dataset, by using only those rows from `data` that are not equal to NA.\n",
    "\n",
    "Lastly, we will encode all categorical features (but the target) to have a proper setup for running the logistic regression. To encode, we'll use OneHotEncoding by calling `get_dummies`. The resulting dataset will have all numerical features."
   ]
  },
  {
   "cell_type": "code",
   "execution_count": 5,
   "metadata": {
    "scrolled": true,
    "slideshow": {
     "slide_type": "slide"
    }
   },
   "outputs": [
    {
     "name": "stdout",
     "output_type": "stream",
     "text": [
      "Selecting 63 features\n",
      "Available types: [dtype('int64') dtype('O') dtype('float64')]\n",
      "64 Features\n",
      "28 categorical features\n",
      "36 numerical features\n",
      "0 categorical features with NAs\n",
      "0 numerical features with NAs\n",
      "64 Complete features\n"
     ]
    },
    {
     "data": {
      "text/html": [
       "<div>\n",
       "<style scoped>\n",
       "    .dataframe tbody tr th:only-of-type {\n",
       "        vertical-align: middle;\n",
       "    }\n",
       "\n",
       "    .dataframe tbody tr th {\n",
       "        vertical-align: top;\n",
       "    }\n",
       "\n",
       "    .dataframe thead th {\n",
       "        text-align: right;\n",
       "    }\n",
       "</style>\n",
       "<table border=\"1\" class=\"dataframe\">\n",
       "  <thead>\n",
       "    <tr style=\"text-align: right;\">\n",
       "      <th></th>\n",
       "      <th>MSSubClass</th>\n",
       "      <th>LotArea</th>\n",
       "      <th>OverallQual</th>\n",
       "      <th>OverallCond</th>\n",
       "      <th>YearBuilt</th>\n",
       "      <th>YearRemodAdd</th>\n",
       "      <th>MasVnrArea</th>\n",
       "      <th>BsmtFinSF1</th>\n",
       "      <th>BsmtFinSF2</th>\n",
       "      <th>BsmtUnfSF</th>\n",
       "      <th>...</th>\n",
       "      <th>SaleType_ConLD</th>\n",
       "      <th>SaleType_ConLI</th>\n",
       "      <th>SaleType_ConLw</th>\n",
       "      <th>SaleType_New</th>\n",
       "      <th>SaleType_WD</th>\n",
       "      <th>SaleCondition_Abnorml</th>\n",
       "      <th>SaleCondition_Alloca</th>\n",
       "      <th>SaleCondition_Family</th>\n",
       "      <th>SaleCondition_Normal</th>\n",
       "      <th>SaleCondition_Partial</th>\n",
       "    </tr>\n",
       "  </thead>\n",
       "  <tbody>\n",
       "    <tr>\n",
       "      <th>0</th>\n",
       "      <td>60</td>\n",
       "      <td>10382</td>\n",
       "      <td>7</td>\n",
       "      <td>6</td>\n",
       "      <td>1973</td>\n",
       "      <td>1973</td>\n",
       "      <td>240</td>\n",
       "      <td>859</td>\n",
       "      <td>32</td>\n",
       "      <td>216</td>\n",
       "      <td>...</td>\n",
       "      <td>0</td>\n",
       "      <td>0</td>\n",
       "      <td>0</td>\n",
       "      <td>0</td>\n",
       "      <td>1</td>\n",
       "      <td>0</td>\n",
       "      <td>0</td>\n",
       "      <td>0</td>\n",
       "      <td>1</td>\n",
       "      <td>0</td>\n",
       "    </tr>\n",
       "    <tr>\n",
       "      <th>2</th>\n",
       "      <td>80</td>\n",
       "      <td>7750</td>\n",
       "      <td>7</td>\n",
       "      <td>5</td>\n",
       "      <td>2000</td>\n",
       "      <td>2000</td>\n",
       "      <td>0</td>\n",
       "      <td>250</td>\n",
       "      <td>0</td>\n",
       "      <td>134</td>\n",
       "      <td>...</td>\n",
       "      <td>0</td>\n",
       "      <td>0</td>\n",
       "      <td>0</td>\n",
       "      <td>0</td>\n",
       "      <td>1</td>\n",
       "      <td>0</td>\n",
       "      <td>0</td>\n",
       "      <td>0</td>\n",
       "      <td>1</td>\n",
       "      <td>0</td>\n",
       "    </tr>\n",
       "    <tr>\n",
       "      <th>3</th>\n",
       "      <td>60</td>\n",
       "      <td>9505</td>\n",
       "      <td>7</td>\n",
       "      <td>5</td>\n",
       "      <td>2001</td>\n",
       "      <td>2001</td>\n",
       "      <td>180</td>\n",
       "      <td>0</td>\n",
       "      <td>0</td>\n",
       "      <td>884</td>\n",
       "      <td>...</td>\n",
       "      <td>0</td>\n",
       "      <td>0</td>\n",
       "      <td>0</td>\n",
       "      <td>0</td>\n",
       "      <td>1</td>\n",
       "      <td>0</td>\n",
       "      <td>0</td>\n",
       "      <td>0</td>\n",
       "      <td>1</td>\n",
       "      <td>0</td>\n",
       "    </tr>\n",
       "  </tbody>\n",
       "</table>\n",
       "<p>3 rows × 203 columns</p>\n",
       "</div>"
      ],
      "text/plain": [
       "   MSSubClass  LotArea  OverallQual  OverallCond  YearBuilt  YearRemodAdd  \\\n",
       "0          60    10382            7            6       1973          1973   \n",
       "2          80     7750            7            5       2000          2000   \n",
       "3          60     9505            7            5       2001          2001   \n",
       "\n",
       "   MasVnrArea  BsmtFinSF1  BsmtFinSF2  BsmtUnfSF          ...            \\\n",
       "0         240         859          32        216          ...             \n",
       "2           0         250           0        134          ...             \n",
       "3         180           0           0        884          ...             \n",
       "\n",
       "   SaleType_ConLD  SaleType_ConLI  SaleType_ConLw  SaleType_New  SaleType_WD  \\\n",
       "0               0               0               0             0            1   \n",
       "2               0               0               0             0            1   \n",
       "3               0               0               0             0            1   \n",
       "\n",
       "   SaleCondition_Abnorml  SaleCondition_Alloca  SaleCondition_Family  \\\n",
       "0                      0                     0                     0   \n",
       "2                      0                     0                     0   \n",
       "3                      0                     0                     0   \n",
       "\n",
       "   SaleCondition_Normal  SaleCondition_Partial  \n",
       "0                     1                      0  \n",
       "2                     1                      0  \n",
       "3                     1                      0  \n",
       "\n",
       "[3 rows x 203 columns]"
      ]
     },
     "execution_count": 5,
     "metadata": {},
     "output_type": "execute_result"
    }
   ],
   "source": [
    "target = 'FireplaceQu'\n",
    "features = meta['complete_features']\n",
    "features.remove('Id')\n",
    "print('Selecting {} features'.format(len(features)))\n",
    "\n",
    "data_complete = data.filter(features + [target])\n",
    "data_complete = data_complete[data_complete[target].notnull()]\n",
    "\n",
    "meta_complete = dataframe_metainformation(data_complete)\n",
    "print_metainformation(meta_complete)\n",
    "dummy_columns = meta_complete['categorical_features']\n",
    "dummy_columns.remove(target)\n",
    "data_encoded = pd.get_dummies(data_complete, columns=dummy_columns)\n",
    "data_encoded.head(3)"
   ]
  },
  {
   "cell_type": "markdown",
   "metadata": {
    "slideshow": {
     "slide_type": "slide"
    }
   },
   "source": [
    "How many occurences do we have from each class of the target variable?"
   ]
  },
  {
   "cell_type": "code",
   "execution_count": 6,
   "metadata": {
    "slideshow": {
     "slide_type": "-"
    }
   },
   "outputs": [
    {
     "data": {
      "image/png": "[encoded data removed]",
      "text/plain": [
       "<Figure size 432x288 with 1 Axes>"
      ]
     },
     "metadata": {},
     "output_type": "display_data"
    }
   ],
   "source": [
    "sns.countplot(x='FireplaceQu', data=data_encoded);\n",
    "plt.show();"
   ]
  },
  {
   "cell_type": "markdown",
   "metadata": {
    "slideshow": {
     "slide_type": "slide"
    }
   },
   "source": [
    "Since we've very few occurences of classes `Ex`, `Fa` and `Po`, we will remove them from the training set, and we will train our model to learn to classify only between `TA` or `Gd`."
   ]
  },
  {
   "cell_type": "code",
   "execution_count": 7,
   "metadata": {
    "slideshow": {
     "slide_type": "-"
    }
   },
   "outputs": [
    {
     "data": {
      "image/png": "[encoded data removed]",
      "text/plain": [
       "<Figure size 432x288 with 1 Axes>"
      ]
     },
     "metadata": {},
     "output_type": "display_data"
    }
   ],
   "source": [
    "data_encoded = data_encoded[(data_encoded[target] != 'Ex') & \n",
    "                            (data_encoded[target] != 'Fa') & \n",
    "                            (data_encoded[target] != 'Po')]\n",
    "data_encoded[target] = data_encoded[target].map({'TA':0, 'Gd':1})\n",
    "sns.countplot(x='FireplaceQu', data=data_encoded);"
   ]
  },
  {
   "cell_type": "markdown",
   "metadata": {
    "slideshow": {
     "slide_type": "slide"
    }
   },
   "source": [
    "Set the list of features prepared"
   ]
  },
  {
   "cell_type": "code",
   "execution_count": 8,
   "metadata": {},
   "outputs": [],
   "source": [
    "features = list(data_encoded)\n",
    "features.remove(target)"
   ]
  },
  {
   "cell_type": "markdown",
   "metadata": {
    "slideshow": {
     "slide_type": "slide"
    }
   },
   "source": [
    "### Recursive Feature Elimination\n",
    "Recursive Feature Elimination (RFE) is based on the idea to repeatedly construct a model and choose either the best or worst performing feature, setting the feature aside and then repeating the process with the rest of the features. This process is applied until all features in the dataset are exhausted. The goal of RFE is to select features by recursively considering smaller and smaller sets of features."
   ]
  },
  {
   "cell_type": "code",
   "execution_count": 9,
   "metadata": {},
   "outputs": [
    {
     "name": "stdout",
     "output_type": "stream",
     "text": [
      "Selected features: ['MSZoning_RL', 'LandContour_Bnk', 'Neighborhood_CollgCr', 'Neighborhood_Crawfor', 'Neighborhood_NWAmes', 'Neighborhood_NoRidge', 'Neighborhood_SawyerW', 'Neighborhood_StoneBr', 'RoofStyle_Hip', 'RoofMatl_Metal', 'Exterior1st_CemntBd', 'Exterior1st_MetalSd', 'Exterior2nd_Brk Cmn', 'SaleType_ConLw', 'SaleCondition_Normal']\n"
     ]
    }
   ],
   "source": [
    "from sklearn.exceptions import ConvergenceWarning\n",
    "import warnings\n",
    "warnings.filterwarnings(action='ignore', category=ConvergenceWarning)\n",
    "\n",
    "X = data_encoded.loc[:, features]\n",
    "y = data_encoded.loc[:, target]\n",
    "\n",
    "logreg = LogisticRegression(solver='lbfgs', max_iter=250)\n",
    "rfe = RFE(logreg, 15)\n",
    "rfe = rfe.fit(X, y)\n",
    "\n",
    "print('Selected features: {}'.format(list(data_encoded.loc[:, rfe.support_])))"
   ]
  },
  {
   "cell_type": "markdown",
   "metadata": {
    "slideshow": {
     "slide_type": "slide"
    }
   },
   "source": [
    "## Building the model\n",
    "\n",
    "Set the variables $X$ and $Y$ to the contents of the dataframe I want to use, and fit a `Logit` model. Print a summary to check the results. We're using the `statmodels` package because we want easy access to all the statistical indicators that logistic regression can lead to."
   ]
  },
  {
   "cell_type": "code",
   "execution_count": 10,
   "metadata": {
    "slideshow": {
     "slide_type": "slide"
    }
   },
   "outputs": [
    {
     "name": "stdout",
     "output_type": "stream",
     "text": [
      "Warning: Maximum number of iterations has been exceeded.\n",
      "         Current function value: 0.610455\n",
      "         Iterations: 35\n",
      "         Function evaluations: 37\n",
      "         Gradient evaluations: 37\n",
      "                           Results: Logit\n",
      "====================================================================\n",
      "Model:                 Logit             Pseudo R-squared:  0.113   \n",
      "Dependent Variable:    FireplaceQu       AIC:               876.0907\n",
      "Date:                  2018-12-21 19:33  BIC:               944.2061\n",
      "No. Observations:      693               Log-Likelihood:    -423.05 \n",
      "Df Model:              14                LL-Null:           -477.11 \n",
      "Df Residuals:          678               Scale:             1.0000  \n",
      "Converged:             0.0000                                       \n",
      "--------------------------------------------------------------------\n",
      "                      Coef.  Std.Err.    z    P>|z|   [0.025  0.975]\n",
      "--------------------------------------------------------------------\n",
      "MSZoning_RL           0.6626   0.1858  3.5661 0.0004  0.2984  1.0268\n",
      "LandContour_Bnk       0.3261   0.4216  0.7735 0.4392 -0.5002  1.1523\n",
      "Neighborhood_CollgCr -0.4636   0.2966 -1.5635 0.1179 -1.0449  0.1176\n",
      "Neighborhood_Crawfor  0.3689   0.3576  1.0315 0.3023 -0.3321  1.0699\n",
      "Neighborhood_NWAmes  -1.7499   0.3335 -5.2471 0.0000 -2.4035 -1.0962\n",
      "Neighborhood_NoRidge -2.4360   0.5108 -4.7687 0.0000 -3.4372 -1.4348\n",
      "Neighborhood_SawyerW -2.6424   0.6718 -3.9335 0.0001 -3.9590 -1.3258\n",
      "Neighborhood_StoneBr -0.2002   0.5286 -0.3787 0.7049 -1.2362  0.8358\n",
      "RoofStyle_Hip         0.5005   0.2005  2.4964 0.0125  0.1075  0.8934\n",
      "RoofMatl_Metal       -0.4659   2.0169 -0.2310 0.8173 -4.4190  3.4871\n",
      "Exterior1st_CemntBd   0.9596   0.4343  2.2097 0.0271  0.1085  1.8108\n",
      "Exterior1st_MetalSd   0.3676   0.2761  1.3316 0.1830 -0.1735  0.9087\n",
      "Exterior2nd_Brk Cmn  -1.5057   1.2142 -1.2401 0.2149 -3.8855  0.8741\n",
      "SaleType_ConLw        0.3237   1.2012  0.2695 0.7876 -2.0307  2.6781\n",
      "SaleCondition_Normal -0.4246   0.1805 -2.3516 0.0187 -0.7784 -0.0707\n",
      "====================================================================\n",
      "\n"
     ]
    },
    {
     "name": "stderr",
     "output_type": "stream",
     "text": [
      "/Users/renero/Code/anaconda3/lib/python3.6/site-packages/statsmodels/base/model.py:496: ConvergenceWarning: Maximum Likelihood optimization failed to converge. Check mle_retvals\n",
      "  \"Check mle_retvals\", ConvergenceWarning)\n"
     ]
    }
   ],
   "source": [
    "X = data_encoded.loc[:, list(data_encoded.loc[:, rfe.support_])]\n",
    "y = data_encoded.loc[:, target]\n",
    "\n",
    "logit_model=sm.Logit(y, X)\n",
    "result=logit_model.fit(method='bfgs')\n",
    "print(result.summary2())"
   ]
  },
  {
   "cell_type": "markdown",
   "metadata": {
    "slideshow": {
     "slide_type": "slide"
    }
   },
   "source": [
    "### P-Values and feature selection\n",
    "\n",
    "Remove those predictors with _p-values_ above 0.05\n",
    "\n",
    "Mark those features with a p-value higher thatn 0.05 (or close) to be removed from $X$, and run the logistic regression again to re-.check the p-values. From that point we'll be ready to run the model properly in sklearn."
   ]
  },
  {
   "cell_type": "code",
   "execution_count": 11,
   "metadata": {
    "slideshow": {
     "slide_type": "slide"
    }
   },
   "outputs": [
    {
     "name": "stdout",
     "output_type": "stream",
     "text": [
      "Warning: Maximum number of iterations has been exceeded.\n",
      "         Current function value: 0.620936\n",
      "         Iterations: 35\n",
      "         Function evaluations: 37\n",
      "         Gradient evaluations: 37\n",
      "                           Results: Logit\n",
      "====================================================================\n",
      "Model:                 Logit             Pseudo R-squared:  0.098   \n",
      "Dependent Variable:    FireplaceQu       AIC:               874.6173\n",
      "Date:                  2018-12-21 19:33  BIC:               906.4045\n",
      "No. Observations:      693               Log-Likelihood:    -430.31 \n",
      "Df Model:              6                 LL-Null:           -477.11 \n",
      "Df Residuals:          686               Scale:             1.0000  \n",
      "Converged:             0.0000                                       \n",
      "--------------------------------------------------------------------\n",
      "                      Coef.  Std.Err.    z    P>|z|   [0.025  0.975]\n",
      "--------------------------------------------------------------------\n",
      "MSZoning_RL           0.5126   0.1765  2.9046 0.0037  0.1667  0.8584\n",
      "Neighborhood_NWAmes  -1.7351   0.3304 -5.2516 0.0000 -2.3827 -1.0875\n",
      "Neighborhood_NoRidge -2.3469   0.4989 -4.7041 0.0000 -3.3248 -1.3691\n",
      "Neighborhood_SawyerW -2.3920   0.6174 -3.8746 0.0001 -3.6020 -1.1820\n",
      "RoofStyle_Hip         0.5333   0.1971  2.7050 0.0068  0.1469  0.9196\n",
      "Exterior1st_CemntBd   0.9746   0.4306  2.2637 0.0236  0.1308  1.8185\n",
      "SaleCondition_Normal -0.2724   0.1721 -1.5829 0.1134 -0.6098  0.0649\n",
      "====================================================================\n",
      "\n"
     ]
    },
    {
     "name": "stderr",
     "output_type": "stream",
     "text": [
      "/Users/renero/Code/anaconda3/lib/python3.6/site-packages/statsmodels/base/model.py:496: ConvergenceWarning: Maximum Likelihood optimization failed to converge. Check mle_retvals\n",
      "  \"Check mle_retvals\", ConvergenceWarning)\n"
     ]
    }
   ],
   "source": [
    "to_remove = result.pvalues[result.pvalues > 0.05].index.tolist()\n",
    "X.drop(to_remove, inplace=True, axis=1)\n",
    "\n",
    "logit_model=sm.Logit(y, X)\n",
    "result=logit_model.fit(method='bfgs')\n",
    "print(result.summary2())"
   ]
  },
  {
   "cell_type": "markdown",
   "metadata": {
    "slideshow": {
     "slide_type": "slide"
    }
   },
   "source": [
    "### The Logit model\n",
    "\n",
    "Here we train the model and evaluate on the test set. The interpretation of the results obtained by calling the `classification_report` are as follows:\n",
    "\n",
    "The **precision** is the ratio tp / (tp + fp) where tp is the number of true positives and fp the number of false positives. The precision is intuitively the ability of the classifier to not label a sample as positive if it is negative.\n",
    "\n",
    "The **recall** is the ratio tp / (tp + fn) where tp is the number of true positives and fn the number of false negatives. The recall is intuitively the ability of the classifier to find all the positive samples.\n",
    "\n",
    "The **F-beta** score can be interpreted as a weighted harmonic mean of the precision and recall, where an F-beta score reaches its best value at 1 and worst score at 0.\n",
    "\n",
    "The F-beta score weights the recall more than the precision by a factor of beta. beta = 1.0 means recall and precision are equally important.\n",
    "\n",
    "The **support** is the number of occurrences of each class in y_test."
   ]
  },
  {
   "cell_type": "code",
   "execution_count": 12,
   "metadata": {
    "slideshow": {
     "slide_type": "slide"
    }
   },
   "outputs": [
    {
     "name": "stdout",
     "output_type": "stream",
     "text": [
      "Accuracy on test: 0.64\n",
      "[[ 30  69]\n",
      " [  6 103]]\n",
      "              precision    recall  f1-score   support\n",
      "\n",
      "           0       0.83      0.30      0.44        99\n",
      "           1       0.60      0.94      0.73       109\n",
      "\n",
      "   micro avg       0.64      0.64      0.64       208\n",
      "   macro avg       0.72      0.62      0.59       208\n",
      "weighted avg       0.71      0.64      0.60       208\n",
      "\n"
     ]
    }
   ],
   "source": [
    "X_train, X_test, y_train, y_test = train_test_split(X, y, \n",
    "                                                    test_size=0.3, \n",
    "                                                    random_state=0)\n",
    "logreg = LogisticRegression(solver='lbfgs')\n",
    "logreg.fit(X_train, y_train)\n",
    "\n",
    "y_pred = logreg.predict(X_test)\n",
    "print('Accuracy on test: {:.2f}'.format(logreg.score(X_test, y_test)))\n",
    "print(confusion_matrix(y_test, y_pred))\n",
    "print(classification_report(y_test, y_pred))"
   ]
  },
  {
   "cell_type": "markdown",
   "metadata": {
    "slideshow": {
     "slide_type": "slide"
    }
   },
   "source": [
    "### ROC Curve\n",
    "\n",
    "The receiver operating characteristic (ROC) curve is another common tool used with binary classifiers. The dotted line represents the ROC curve of a purely random classifier; a good classifier stays as far away from that line as possible (toward the top-left corner)."
   ]
  },
  {
   "cell_type": "code",
   "execution_count": 13,
   "metadata": {},
   "outputs": [],
   "source": [
    "logit_roc_auc = roc_auc_score(y_test, logreg.predict(X_test))\n",
    "fpr, tpr, thresholds = roc_curve(y_test, logreg.predict_proba(X_test)[:,1])"
   ]
  },
  {
   "cell_type": "markdown",
   "metadata": {
    "slideshow": {
     "slide_type": "slide"
    }
   },
   "source": [
    "Plot the FPR vs. TPR, and the diagonal line representing the null model."
   ]
  },
  {
   "cell_type": "code",
   "execution_count": 14,
   "metadata": {
    "slideshow": {
     "slide_type": "skip"
    }
   },
   "outputs": [],
   "source": [
    "def plot_roc(fpr, tpr, logit_roc_auc):\n",
    "    plt.figure()\n",
    "    plt.plot(fpr, tpr, label='Logistic Regression (area = %0.2f)' % logit_roc_auc)\n",
    "    plt.plot([0, 1], [0, 1], 'r--')\n",
    "    plt.xlim([0.0, 1.05])\n",
    "    plt.ylim([0.0, 1.05])\n",
    "    plt.xlabel('False Positive Rate')\n",
    "    plt.ylabel('True Positive Rate')\n",
    "    plt.title('ROC curve')\n",
    "    plt.legend(loc=\"lower right\")\n",
    "    plt.savefig('Log_ROC')\n",
    "    plt.show();"
   ]
  },
  {
   "cell_type": "code",
   "execution_count": 15,
   "metadata": {
    "scrolled": true
   },
   "outputs": [
    {
     "data": {
      "image/png": "[encoded data removed]",
      "text/plain": [
       "<Figure size 432x288 with 1 Axes>"
      ]
     },
     "metadata": {},
     "output_type": "display_data"
    }
   ],
   "source": [
    "plot_roc(fpr, tpr, logit_roc_auc)"
   ]
  },
  {
   "cell_type": "markdown",
   "metadata": {},
   "source": [
    "The results are very poor, and what we've got shouldn't be used in production. The proposal from this point is:\n",
    "  1. to know more about how the predictions are made in logistic regression\n",
    "  2. apply a logit to predict if the price of a house will be higher or lower than a given value"
   ]
  },
  {
   "cell_type": "markdown",
   "metadata": {
    "slideshow": {
     "slide_type": "slide"
    }
   },
   "source": [
    "### Explore logit predictions\n",
    "\n",
    "What you've seen is that we irectly call the method `predict` in `logit`, which will tell me to which class each sample is classified: 0 or 1. To accomplish this, the model produces two probabilities"
   ]
  },
  {
   "cell_type": "code",
   "execution_count": 16,
   "metadata": {},
   "outputs": [],
   "source": [
    "pred_proba_df = pd.DataFrame(logreg.predict_proba(X_test))\n",
    "threshold_list = np.arange(0.05, 1.0, 0.05)\n",
    "accuracy_list = np.array([])\n",
    "for threshold in threshold_list:\n",
    "    y_test_pred = pred_proba_df.applymap(lambda prob: 1 if prob > threshold else 0)\n",
    "    test_accuracy = accuracy_score(y_test.values,\n",
    "                                   y_test_pred[1].values.reshape(-1, 1))\n",
    "    accuracy_list = np.append(accuracy_list, test_accuracy)"
   ]
  },
  {
   "cell_type": "markdown",
   "metadata": {
    "slideshow": {
     "slide_type": "slide"
    }
   },
   "source": [
    "And the plot of the array of accuracy values got from each of the probabilities."
   ]
  },
  {
   "cell_type": "code",
   "execution_count": 17,
   "metadata": {},
   "outputs": [
    {
     "data": {
      "image/png": "[encoded data removed]",
      "text/plain": [
       "<Figure size 432x288 with 1 Axes>"
      ]
     },
     "metadata": {},
     "output_type": "display_data"
    }
   ],
   "source": [
    "plt.plot(range(accuracy_list.shape[0]), accuracy_list, 'o-', label='Accuracy')\n",
    "plt.title('Accuracy for different threshold values')\n",
    "plt.xlabel('Threshold')\n",
    "plt.ylabel('Accuracy')\n",
    "plt.xticks([i for i in range(1, accuracy_list.shape[0], 2)], \n",
    "           np.round(threshold_list[1::2], 1))\n",
    "plt.grid()\n",
    "plt.show();"
   ]
  },
  {
   "cell_type": "markdown",
   "metadata": {
    "slideshow": {
     "slide_type": "slide"
    }
   },
   "source": [
    "## Default Dataset\n",
    "\n",
    "A simulated data set containing information on ten thousand customers. The aim here is to predict which customers will default on their credit card debt. A data frame with 10000 observations on the following 4 variables.\n",
    "\n",
    "`default`\n",
    "    A factor with levels No and Yes indicating whether the customer defaulted on their debt\n",
    "    \n",
    "`student`\n",
    "    A factor with levels No and Yes indicating whether the customer is a student\n",
    "    \n",
    "`balance`\n",
    "    The average balance that the customer has remaining on their credit card after making their monthly payment\n",
    "    \n",
    "`income`\n",
    "    Income of customer\n"
   ]
  },
  {
   "cell_type": "code",
   "execution_count": 18,
   "metadata": {
    "slideshow": {
     "slide_type": "slide"
    }
   },
   "outputs": [
    {
     "data": {
      "text/html": [
       "<div>\n",
       "<style scoped>\n",
       "    .dataframe tbody tr th:only-of-type {\n",
       "        vertical-align: middle;\n",
       "    }\n",
       "\n",
       "    .dataframe tbody tr th {\n",
       "        vertical-align: top;\n",
       "    }\n",
       "\n",
       "    .dataframe thead th {\n",
       "        text-align: right;\n",
       "    }\n",
       "</style>\n",
       "<table border=\"1\" class=\"dataframe\">\n",
       "  <thead>\n",
       "    <tr style=\"text-align: right;\">\n",
       "      <th></th>\n",
       "      <th>default</th>\n",
       "      <th>student</th>\n",
       "      <th>balance</th>\n",
       "      <th>income</th>\n",
       "    </tr>\n",
       "  </thead>\n",
       "  <tbody>\n",
       "    <tr>\n",
       "      <th>0</th>\n",
       "      <td>No</td>\n",
       "      <td>No</td>\n",
       "      <td>729.526495</td>\n",
       "      <td>44361.625074</td>\n",
       "    </tr>\n",
       "    <tr>\n",
       "      <th>1</th>\n",
       "      <td>No</td>\n",
       "      <td>Yes</td>\n",
       "      <td>817.180407</td>\n",
       "      <td>12106.134700</td>\n",
       "    </tr>\n",
       "    <tr>\n",
       "      <th>2</th>\n",
       "      <td>No</td>\n",
       "      <td>No</td>\n",
       "      <td>1073.549164</td>\n",
       "      <td>31767.138947</td>\n",
       "    </tr>\n",
       "    <tr>\n",
       "      <th>3</th>\n",
       "      <td>No</td>\n",
       "      <td>No</td>\n",
       "      <td>529.250605</td>\n",
       "      <td>35704.493935</td>\n",
       "    </tr>\n",
       "    <tr>\n",
       "      <th>4</th>\n",
       "      <td>No</td>\n",
       "      <td>No</td>\n",
       "      <td>785.655883</td>\n",
       "      <td>38463.495879</td>\n",
       "    </tr>\n",
       "  </tbody>\n",
       "</table>\n",
       "</div>"
      ],
      "text/plain": [
       "  default student      balance        income\n",
       "0      No      No   729.526495  44361.625074\n",
       "1      No     Yes   817.180407  12106.134700\n",
       "2      No      No  1073.549164  31767.138947\n",
       "3      No      No   529.250605  35704.493935\n",
       "4      No      No   785.655883  38463.495879"
      ]
     },
     "execution_count": 18,
     "metadata": {},
     "output_type": "execute_result"
    }
   ],
   "source": [
    "data = pd.read_csv('default.csv')\n",
    "data.head()"
   ]
  },
  {
   "cell_type": "markdown",
   "metadata": {
    "slideshow": {
     "slide_type": "slide"
    }
   },
   "source": [
    "Let's build a class column with the proper values on it (0 and 1) instead of the strings with Yes and No."
   ]
  },
  {
   "cell_type": "code",
   "execution_count": 19,
   "metadata": {},
   "outputs": [
    {
     "data": {
      "text/html": [
       "<div>\n",
       "<style scoped>\n",
       "    .dataframe tbody tr th:only-of-type {\n",
       "        vertical-align: middle;\n",
       "    }\n",
       "\n",
       "    .dataframe tbody tr th {\n",
       "        vertical-align: top;\n",
       "    }\n",
       "\n",
       "    .dataframe thead th {\n",
       "        text-align: right;\n",
       "    }\n",
       "</style>\n",
       "<table border=\"1\" class=\"dataframe\">\n",
       "  <thead>\n",
       "    <tr style=\"text-align: right;\">\n",
       "      <th></th>\n",
       "      <th>default</th>\n",
       "      <th>student</th>\n",
       "      <th>balance</th>\n",
       "      <th>income</th>\n",
       "    </tr>\n",
       "  </thead>\n",
       "  <tbody>\n",
       "    <tr>\n",
       "      <th>0</th>\n",
       "      <td>0</td>\n",
       "      <td>0</td>\n",
       "      <td>729.526495</td>\n",
       "      <td>44361.625074</td>\n",
       "    </tr>\n",
       "    <tr>\n",
       "      <th>1</th>\n",
       "      <td>0</td>\n",
       "      <td>1</td>\n",
       "      <td>817.180407</td>\n",
       "      <td>12106.134700</td>\n",
       "    </tr>\n",
       "    <tr>\n",
       "      <th>2</th>\n",
       "      <td>0</td>\n",
       "      <td>0</td>\n",
       "      <td>1073.549164</td>\n",
       "      <td>31767.138947</td>\n",
       "    </tr>\n",
       "    <tr>\n",
       "      <th>3</th>\n",
       "      <td>0</td>\n",
       "      <td>0</td>\n",
       "      <td>529.250605</td>\n",
       "      <td>35704.493935</td>\n",
       "    </tr>\n",
       "    <tr>\n",
       "      <th>4</th>\n",
       "      <td>0</td>\n",
       "      <td>0</td>\n",
       "      <td>785.655883</td>\n",
       "      <td>38463.495879</td>\n",
       "    </tr>\n",
       "  </tbody>\n",
       "</table>\n",
       "</div>"
      ],
      "text/plain": [
       "   default  student      balance        income\n",
       "0        0        0   729.526495  44361.625074\n",
       "1        0        1   817.180407  12106.134700\n",
       "2        0        0  1073.549164  31767.138947\n",
       "3        0        0   529.250605  35704.493935\n",
       "4        0        0   785.655883  38463.495879"
      ]
     },
     "execution_count": 19,
     "metadata": {},
     "output_type": "execute_result"
    }
   ],
   "source": [
    "data.default = data.default.map({'No': 0, 'Yes': 1})\n",
    "data.student = data.student.map({'No': 0, 'Yes': 1})\n",
    "data.head()"
   ]
  },
  {
   "cell_type": "markdown",
   "metadata": {
    "slideshow": {
     "slide_type": "slide"
    }
   },
   "source": [
    "We are interested in predicting whether an individual will default on his or her credit card payment, on the basis of annual income and monthly credit card balance.\n",
    "\n",
    "It is worth noting that figure below displays a very pronounced relationship between the predictor balance and the response default. In most real applications, the relationship between the predictor and the response will not be nearly so strong."
   ]
  },
  {
   "cell_type": "code",
   "execution_count": 20,
   "metadata": {
    "slideshow": {
     "slide_type": "skip"
    }
   },
   "outputs": [],
   "source": [
    "def plot_descriptive(data):\n",
    "    fig = plt.figure(figsize=(9, 4))\n",
    "    gs = GridSpec(1, 3, width_ratios=[3, 1, 1])\n",
    "\n",
    "    ax0 = plt.subplot(gs[0])\n",
    "    ax0 = plt.scatter(data.balance[data.default==0], \n",
    "                      data.income[data.default==0], \n",
    "                      label='default=No',\n",
    "                      marker='.', c='red', alpha=0.5)\n",
    "    ax0 = plt.scatter(data.balance[data.default==1], \n",
    "                      data.income[data.default==1],\n",
    "                      label='default=Yes',\n",
    "                      marker='+', c='green', alpha=0.7)\n",
    "    ax0 = plt.xlabel('balance')\n",
    "    ax0 = plt.ylabel('income')\n",
    "    ax0 = plt.legend(loc='best')\n",
    "    ax0 = plt.subplot(gs[1])\n",
    "    ax1 = sns.boxplot(x=\"default\", y=\"balance\", data=data)\n",
    "    ax0 = plt.subplot(gs[2])\n",
    "    ax2 = sns.boxplot(x=\"default\", y=\"income\", data=data)\n",
    "\n",
    "    plt.tight_layout()\n",
    "    plt.show()"
   ]
  },
  {
   "cell_type": "code",
   "execution_count": 21,
   "metadata": {},
   "outputs": [
    {
     "data": {
      "image/png": "[encoded data removed]",
      "text/plain": [
       "<Figure size 648x288 with 3 Axes>"
      ]
     },
     "metadata": {},
     "output_type": "display_data"
    }
   ],
   "source": [
    "plot_descriptive(data)"
   ]
  },
  {
   "cell_type": "markdown",
   "metadata": {
    "slideshow": {
     "slide_type": "slide"
    }
   },
   "source": [
    "Consider again the Default data set, where the response `default` falls into one of two categories, Yes or No. Rather than modeling this response $Y$ directly, logistic regression models the probability that $Y$ belongs to a particular category.\n",
    "\n",
    "For example, the probability of default given balance can be written as\n",
    "\n",
    "$$Pr(default = Yes|balance)$$\n",
    "\n",
    "The values of $Pr(default = Yes|balance)$ –$p(balance)$–,  will range between 0 and 1. Then for any given value of `balance`, a prediction can be made for `default`. For example, one might predict `default = Yes` for any individual for whom $p(balance) > 0.5$."
   ]
  },
  {
   "cell_type": "code",
   "execution_count": 22,
   "metadata": {
    "slideshow": {
     "slide_type": "skip"
    }
   },
   "outputs": [],
   "source": [
    "def plot_classes(show=True):\n",
    "    plt.scatter(data.balance[data.default==0], \n",
    "                data.default[data.default==0], \n",
    "                marker='o', color='red', alpha=0.5)\n",
    "    plt.scatter(data.balance[data.default==1], \n",
    "                data.default[data.default==1], \n",
    "                marker='+', color='green', alpha=0.7)\n",
    "    plt.xlabel('Balance')\n",
    "    plt.ylabel('Probability of default')\n",
    "    plt.yticks([0, 1], [0, 1])\n",
    "    if show is True:\n",
    "        plt.show();"
   ]
  },
  {
   "cell_type": "code",
   "execution_count": 23,
   "metadata": {
    "slideshow": {
     "slide_type": "slide"
    }
   },
   "outputs": [
    {
     "data": {
      "image/png": "[encoded data removed]",
      "text/plain": [
       "<Figure size 432x288 with 1 Axes>"
      ]
     },
     "metadata": {},
     "output_type": "display_data"
    }
   ],
   "source": [
    "plot_classes()"
   ]
  },
  {
   "cell_type": "markdown",
   "metadata": {
    "slideshow": {
     "slide_type": "slide"
    }
   },
   "source": [
    "Build the model, and keep it on `logreg`."
   ]
  },
  {
   "cell_type": "code",
   "execution_count": 24,
   "metadata": {},
   "outputs": [
    {
     "name": "stdout",
     "output_type": "stream",
     "text": [
      "Accuracy on test: 0.97\n",
      "[[2879    8]\n",
      " [  80   33]]\n",
      "              precision    recall  f1-score   support\n",
      "\n",
      "           0       0.97      1.00      0.98      2887\n",
      "           1       0.80      0.29      0.43       113\n",
      "\n",
      "   micro avg       0.97      0.97      0.97      3000\n",
      "   macro avg       0.89      0.64      0.71      3000\n",
      "weighted avg       0.97      0.97      0.96      3000\n",
      "\n"
     ]
    }
   ],
   "source": [
    "X_train, X_test, y_train, y_test = train_test_split(data.balance, \n",
    "                                                    data.default,\n",
    "                                                    test_size=0.3, \n",
    "                                                    random_state=0)\n",
    "logreg = LogisticRegression(solver='lbfgs')\n",
    "logreg.fit(X_train.values.reshape(-1, 1), y_train)\n",
    "\n",
    "y_pred = logreg.predict(X_test.values.reshape(-1, 1))\n",
    "acc_test = logreg.score(X_test.values.reshape(-1, 1), y_test)\n",
    "\n",
    "print('Accuracy on test: {:.2f}'.format(acc_test))\n",
    "print(confusion_matrix(y_test, y_pred))\n",
    "print(classification_report(y_test, y_pred))"
   ]
  },
  {
   "cell_type": "markdown",
   "metadata": {
    "slideshow": {
     "slide_type": "slide"
    }
   },
   "source": [
    "And now represent where is the model setting the separation function between the two classes."
   ]
  },
  {
   "cell_type": "code",
   "execution_count": 25,
   "metadata": {
    "slideshow": {
     "slide_type": "skip"
    }
   },
   "outputs": [],
   "source": [
    "def plot_sigmoid():\n",
    "    plt.figure(figsize=(10,4))\n",
    "    plt.subplot(1, 2, 1)\n",
    "    plot_classes(show=False)\n",
    "    plt.plot(sigm.x.values, sigm.y.values, color='black', linewidth=3);\n",
    "    plt.title('Sigmoid')\n",
    "\n",
    "    plt.subplot(1, 2, 2)\n",
    "    plot_classes(show=False)\n",
    "    plt.plot(sigm.x.values, sigm.y.values, color='black', linewidth=3);\n",
    "    plt.xlim(1925, 1990)\n",
    "    plt.title('Zooming the Sigmoid')\n",
    "    plt.tight_layout()\n",
    "    plt.show()"
   ]
  },
  {
   "cell_type": "code",
   "execution_count": 26,
   "metadata": {},
   "outputs": [
    {
     "data": {
      "image/png": "[encoded data removed]",
      "text/plain": [
       "<Figure size 720x288 with 2 Axes>"
      ]
     },
     "metadata": {},
     "output_type": "display_data"
    }
   ],
   "source": [
    "def model(x):\n",
    "    return 1 / (1 + np.exp(-x))\n",
    "\n",
    "y_func = model(X_test.values * logreg.coef_ + logreg.intercept_).ravel()\n",
    "sigm = pd.DataFrame({'x': list(X_test.values), 'y': list(y_pred)}).\\\n",
    "                    sort_values(by=['x'])\n",
    "plot_sigmoid()"
   ]
  },
  {
   "cell_type": "markdown",
   "metadata": {
    "slideshow": {
     "slide_type": "slide"
    }
   },
   "source": [
    "## Next steps\n",
    "\n",
    "- Explore multinomial logistic regression with sklearn\n",
    "- Explore SKLearn pipelines to find the optimal parameters of Logit\n",
    "- Explore Lasso and Ridge Regression with Linear Regression problems\n",
    "- Continue reading by exploring GLM (Generalized Linear Models)."
   ]
  }
 ],
 "metadata": {
  "celltoolbar": "Slideshow",
  "kernelspec": {
   "display_name": "Python 3",
   "language": "python",
   "name": "python3"
  },
  "language_info": {
   "codemirror_mode": {
    "name": "ipython",
    "version": 3
   },
   "file_extension": ".py",
   "mimetype": "text/x-python",
   "name": "python",
   "nbconvert_exporter": "python",
   "pygments_lexer": "ipython3",
   "version": "3.6.5"
  }
 },
 "nbformat": 4,
 "nbformat_minor": 2
}

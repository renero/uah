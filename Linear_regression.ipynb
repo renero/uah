{
 "cells": [
  {
   "cell_type": "markdown",
   "metadata": {
    "slideshow": {
     "slide_type": "slide"
    }
   },
   "source": [
    "# Linear Regression\n",
    "Let's practice with basic linear regression concepts in Python. We will read the Advertising dataset used in the ISLR book, and we will perform linear with single and multiple coefficients."
   ]
  },
  {
   "cell_type": "code",
   "execution_count": 1,
   "metadata": {},
   "outputs": [
    {
     "name": "stderr",
     "output_type": "stream",
     "text": [
      "/Users/renero/Code/anaconda3/lib/python3.6/site-packages/statsmodels/compat/pandas.py:56: FutureWarning: The pandas.core.datetools module is deprecated and will be removed in a future version. Please use the pandas.tseries module instead.\n",
      "  from pandas.core import datetools\n"
     ]
    }
   ],
   "source": [
    "import random\n",
    "import sys\n",
    "import pandas as pd\n",
    "import matplotlib.pyplot as plt\n",
    "import numpy as np\n",
    "import seaborn as sns\n",
    "import statsmodels.api as sm\n",
    "\n",
    "from sklearn.pipeline import Pipeline, make_pipeline\n",
    "from sklearn.preprocessing import PolynomialFeatures, StandardScaler\n",
    "from sklearn.model_selection import cross_validate, cross_val_score, train_test_split, learning_curve, validation_curve\n",
    "from sklearn import datasets, linear_model\n",
    "from sklearn.metrics import mean_squared_error, r2_score\n",
    "from sklearn.model_selection import cross_val_score, ShuffleSplit\n",
    "from sklearn_pandas import DataFrameMapper\n",
    "from statsmodels.api import add_constant\n",
    "\n",
    "import warnings\n",
    "warnings.filterwarnings('ignore')"
   ]
  },
  {
   "cell_type": "markdown",
   "metadata": {
    "slideshow": {
     "slide_type": "slide"
    }
   },
   "source": [
    "## Baseline your model"
   ]
  },
  {
   "cell_type": "code",
   "execution_count": 2,
   "metadata": {
    "slideshow": {
     "slide_type": "fragment"
    }
   },
   "outputs": [
    {
     "data": {
      "text/html": [
       "<div>\n",
       "<style scoped>\n",
       "    .dataframe tbody tr th:only-of-type {\n",
       "        vertical-align: middle;\n",
       "    }\n",
       "\n",
       "    .dataframe tbody tr th {\n",
       "        vertical-align: top;\n",
       "    }\n",
       "\n",
       "    .dataframe thead th {\n",
       "        text-align: right;\n",
       "    }\n",
       "</style>\n",
       "<table border=\"1\" class=\"dataframe\">\n",
       "  <thead>\n",
       "    <tr style=\"text-align: right;\">\n",
       "      <th></th>\n",
       "      <th>Unnamed: 0</th>\n",
       "      <th>TV</th>\n",
       "      <th>radio</th>\n",
       "      <th>newspaper</th>\n",
       "      <th>sales</th>\n",
       "    </tr>\n",
       "  </thead>\n",
       "  <tbody>\n",
       "    <tr>\n",
       "      <th>0</th>\n",
       "      <td>1</td>\n",
       "      <td>230.1</td>\n",
       "      <td>37.8</td>\n",
       "      <td>69.2</td>\n",
       "      <td>22.1</td>\n",
       "    </tr>\n",
       "    <tr>\n",
       "      <th>1</th>\n",
       "      <td>2</td>\n",
       "      <td>44.5</td>\n",
       "      <td>39.3</td>\n",
       "      <td>45.1</td>\n",
       "      <td>10.4</td>\n",
       "    </tr>\n",
       "  </tbody>\n",
       "</table>\n",
       "</div>"
      ],
      "text/plain": [
       "   Unnamed: 0     TV  radio  newspaper  sales\n",
       "0           1  230.1   37.8       69.2   22.1\n",
       "1           2   44.5   39.3       45.1   10.4"
      ]
     },
     "execution_count": 2,
     "metadata": {},
     "output_type": "execute_result"
    }
   ],
   "source": [
    "url=\"http://www-bcf.usc.edu/~gareth/ISL/Advertising.csv\"\n",
    "adv=pd.read_csv(url)\n",
    "adv.head(2)"
   ]
  },
  {
   "cell_type": "markdown",
   "metadata": {
    "slideshow": {
     "slide_type": "fragment"
    }
   },
   "source": [
    "We must remove the first column containing the index of each row as it's not necessary when using Pandas."
   ]
  },
  {
   "cell_type": "code",
   "execution_count": 3,
   "metadata": {
    "slideshow": {
     "slide_type": "-"
    }
   },
   "outputs": [],
   "source": [
    "adv = adv.drop(adv.columns[0], axis=1)"
   ]
  },
  {
   "cell_type": "markdown",
   "metadata": {
    "slideshow": {
     "slide_type": "-"
    }
   },
   "source": [
    "We only have fours predictors or variables or dimensions to play with. Our **target** variable is **Sales**: We want to predict the amount of sales that we will get, basen on the money that we invest in TV, radio or newspaper advertising channels."
   ]
  },
  {
   "cell_type": "markdown",
   "metadata": {
    "slideshow": {
     "slide_type": "slide"
    }
   },
   "source": [
    "### Plot the initial dataset\n",
    "\n",
    "Let's plot the two variables to see how they look like?"
   ]
  },
  {
   "cell_type": "code",
   "execution_count": 4,
   "metadata": {
    "slideshow": {
     "slide_type": "-"
    }
   },
   "outputs": [
    {
     "data": {
      "image/png": "[encoded data removed]",
      "text/plain": [
       "<Figure size 432x288 with 1 Axes>"
      ]
     },
     "metadata": {},
     "output_type": "display_data"
    }
   ],
   "source": [
    "plt.scatter(adv.TV, adv.sales,  color='grey')\n",
    "plt.xlabel('TV'); plt.ylabel('Sales')\n",
    "plt.show();"
   ]
  },
  {
   "cell_type": "markdown",
   "metadata": {
    "slideshow": {
     "slide_type": "slide"
    }
   },
   "source": [
    "### Split datasets, fit a linear regression and measure $R^2$ over the test set \n",
    "\n",
    "As usual, we must start by splitting the dataset into training & test. This time I will do once again to get a validation split. To do so, I will appply the `train_test_split` twice over the training set to get the validation from there.\n",
    "\n",
    "The idea is to finally evaluate the model using the validation set."
   ]
  },
  {
   "cell_type": "code",
   "execution_count": 5,
   "metadata": {},
   "outputs": [
    {
     "name": "stdout",
     "output_type": "stream",
     "text": [
      "Intercept: [7.02261896]\n",
      "Coefficients: [[0.04686627]]\n",
      "Mean squared error (MSE): 12.65\n",
      "Variance score (R2): 0.51\n"
     ]
    }
   ],
   "source": [
    "X = pd.DataFrame(adv.TV)\n",
    "y = pd.DataFrame(adv, columns=['sales'])\n",
    "\n",
    "X_train, X_test, y_train, y_test = train_test_split(\n",
    "    X, y, test_size=0.2, random_state=25)\n",
    "X_train, X_val, y_train, y_val = train_test_split(\n",
    "    X_train, y_train, test_size=0.2, random_state=12)\n",
    "\n",
    "lm = linear_model.LinearRegression()\n",
    "lm.fit(X_train, y_train)\n",
    "y_pred = lm.predict(X_test)\n",
    "\n",
    "print('Intercept:', lm.intercept_)\n",
    "print('Coefficients:', lm.coef_)\n",
    "print('Mean squared error (MSE): {:.2f}'.format(mean_squared_error(y_test, y_pred)))\n",
    "print('Variance score (R2): {:.2f}'.format(r2_score(y_test, y_pred)))"
   ]
  },
  {
   "cell_type": "markdown",
   "metadata": {
    "slideshow": {
     "slide_type": "slide"
    }
   },
   "source": [
    "### Interpretation\n",
    "\n",
    "- The intercept is the expected mean value of the target variable when all predictors are set to 0.\n",
    "- The coeffient is the slope of the line that explains the regression.\n",
    "- The R2 is the percentage of explained variance of the predictions.\n",
    "\n",
    "But, to really see how good is our model, we must evaluate the score ($R^2$) over a validation split --a different split of the data set. We will understand later, why this is important. I'm getting $R^2=0.51$ over this specific test set.\n",
    "\n",
    "However, if you check the results below, you'll see that the $R^2$ got when predicting over the validation dataset are slightlit better: from $R^2=0.51$ to $R^2=0.64$ !! \n",
    "\n",
    "**Why is that?** In this case, for this specific splits, it turns out that the validations split is probably more similar to the training set, than the test set. And that is why our model is better predicting values from that split, than from the test split."
   ]
  },
  {
   "cell_type": "code",
   "execution_count": 6,
   "metadata": {},
   "outputs": [
    {
     "name": "stdout",
     "output_type": "stream",
     "text": [
      "Intercept: [7.02261896]\n",
      "Coefficients: [[0.04686627]]\n",
      "Mean squared error: 11.60\n",
      "Variance score (R2): 0.64\n"
     ]
    }
   ],
   "source": [
    "y_generalize = lm.predict(X_val)\n",
    "\n",
    "print('Intercept:', lm.intercept_)\n",
    "print('Coefficients:', lm.coef_)\n",
    "print('Mean squared error: {:.2f}'.format(mean_squared_error(y_val, y_generalize)))\n",
    "print('Variance score (R2): {:.2f}'.format(r2_score(y_val, y_generalize)))"
   ]
  },
  {
   "cell_type": "markdown",
   "metadata": {
    "slideshow": {
     "slide_type": "slide"
    }
   },
   "source": [
    "### Visualization \n",
    "\n",
    "Now, plot the original points used to train the linear regression (grey) and the line representing the function that better approximates this relationship between TV and sales that we got from applying the linear regression. \n",
    "\n",
    "If you look at the code, you'll see that the way to obtain the values of Y later plotted using `plt.plot` come from directly applying the function describing the linear regression:\n",
    "\n",
    "$$\\hat{y} = \\beta_0 + \\beta_1 X_{val}$$\n",
    "\n",
    "Correspondence:\n",
    "- $\\beta_0$ is `lm.intercept_`\n",
    "- $\\beta_1$ is `lm.coef_[0]`"
   ]
  },
  {
   "cell_type": "code",
   "execution_count": 7,
   "metadata": {},
   "outputs": [
    {
     "data": {
      "image/png": "[encoded data removed]",
      "text/plain": [
       "<Figure size 432x288 with 1 Axes>"
      ]
     },
     "metadata": {},
     "output_type": "display_data"
    }
   ],
   "source": [
    "plt.scatter(X_train, y_train, color='gray')\n",
    "x_vals = X_val.TV.values\n",
    "y_vals = lm.intercept_ + lm.coef_[0] * x_vals\n",
    "plt.plot(x_vals, y_vals, '--');"
   ]
  },
  {
   "cell_type": "markdown",
   "metadata": {
    "slideshow": {
     "slide_type": "slide"
    }
   },
   "source": [
    "### Cross Validation\n",
    "\n",
    "As you might possible have figured out, we haven't used the validation dataset, and our model has learnt only from the first (and only) split that we made between training and test. In order to improve our results, a good approach is to repeat the splitting process again and again to obtain the best possible subset of individuals that lead to the best possible model.\n",
    "\n",
    "To do so, we should repeat the split and validation in a loop to select the best one. Here you can find a possible way of accomplishing that task."
   ]
  },
  {
   "cell_type": "code",
   "execution_count": 8,
   "metadata": {},
   "outputs": [],
   "source": [
    "def split_datasets(X, y, seed, \n",
    "                   split_test_size=0.2, \n",
    "                   validation_split=True):\n",
    "    \"\"\"\n",
    "    Split X and y dataframes into training, test and validation datasets, using the provided random seed.\n",
    "    Returns a dictionary with the datasets\n",
    "    \"\"\"\n",
    "    X_train, X_test, y_train, y_test = train_test_split(\n",
    "        X, y, test_size=split_test_size, random_state=seed)\n",
    "    \n",
    "    split = dict()\n",
    "    if validation_split is True:\n",
    "        X_train, X_val, y_train, y_val = train_test_split(\n",
    "            X_train, y_train, test_size=split_test_size, random_state=seed)\n",
    "        split['X_val'] = X_val\n",
    "        split['y_val'] = y_val\n",
    "\n",
    "    split['X_train'] = X_train\n",
    "    split['X_test'] = X_test\n",
    "    split['y_train'] = y_train\n",
    "    split['y_test'] = y_test\n",
    "\n",
    "    return split"
   ]
  },
  {
   "cell_type": "code",
   "execution_count": 9,
   "metadata": {},
   "outputs": [],
   "source": [
    "def prepare_datasets(data, features, target, \n",
    "                     seed=1024, \n",
    "                     test_size=0.2, \n",
    "                     validation_split=False):\n",
    "    \"\"\"\n",
    "    From an input dataframe, separate features from target, and \n",
    "    produce splits (with or without validation).\n",
    "    \"\"\"\n",
    "    X = pd.DataFrame(adv, columns=features)\n",
    "    y = pd.DataFrame(adv.loc[:, target])\n",
    "    split = split_datasets(X, y, seed=seed, split_test_size=test_size, validation_split=validation_split)\n",
    "    return split"
   ]
  },
  {
   "cell_type": "code",
   "execution_count": 10,
   "metadata": {},
   "outputs": [],
   "source": [
    "def train_and_predict(X, y, num_folds=1):\n",
    "    \"\"\"\n",
    "    Call the splitting of the dataset, train a linear regression and predict with the test set.\n",
    "    Returns the model, the splits used and the R2 score.\n",
    "    \"\"\"\n",
    "    lm = linear_model.LinearRegression()\n",
    "    test_r2 = 0.0\n",
    "    for i in range(num_folds):\n",
    "        seed = random.randrange(2**32 - 1)\n",
    "        # split = split_datasets(X, y, seed)\n",
    "        split = prepare_datasets(adv, ['TV'], 'sales', seed=seed, validation_split=True)\n",
    "        lm.fit(split['X_train'], split['y_train'])\n",
    "        y_pred = lm.predict(split['X_test'])\n",
    "        test_r2 += r2_score(split['y_test'], y_pred)\n",
    "    test_r2 = test_r2/num_folds\n",
    "    return lm, split, test_r2"
   ]
  },
  {
   "cell_type": "code",
   "execution_count": 11,
   "metadata": {},
   "outputs": [],
   "source": [
    "def validate(model, X_val, y_val):\n",
    "    \"\"\"\n",
    "    Scores a model over the validation datasets, by measuring the R2 score.\n",
    "    Returns the r2.\n",
    "    \"\"\"\n",
    "    y_generalized = lm.predict(X_val)\n",
    "    r2 = r2_score(y_val, y_generalized)\n",
    "    return r2"
   ]
  },
  {
   "cell_type": "code",
   "execution_count": 12,
   "metadata": {},
   "outputs": [],
   "source": [
    "def my_pipeline(X, y, max_iterations, num_folds=1):\n",
    "    \"\"\"\n",
    "    Repeats during `max_iterations` the process of\n",
    "      1) Splitting a dataset, training a linear regression and measuring its score over test set\n",
    "      2) Store its R2 and compute its R2 over the validation dataset\n",
    "    \"\"\"\n",
    "    history = dict()\n",
    "    history['test_r2'] = np.array([])\n",
    "    history['val_r2'] = np.array([])\n",
    "    for num_iterations in range(max_iterations):\n",
    "        model, split, test_r2 = train_and_predict(X, y, num_folds=num_folds)\n",
    "        val_r2 = validate(model, split['X_val'], split['y_val'])\n",
    "        history['test_r2'] = np.append(history['test_r2'], test_r2)\n",
    "        history['val_r2'] = np.append(history['val_r2'], val_r2)\n",
    "    return history"
   ]
  },
  {
   "cell_type": "markdown",
   "metadata": {},
   "source": [
    "### Main pipeline call\n",
    "\n",
    "We are ready now to call the pipeline. The required arguments are the X and y dataframes, and the numner of iterations we want it to run. We can also specify how many runs we want each model to be trained over the same split of training and test, which by default is 1. We will keep it like that for the moment.\n",
    "\n",
    "It's quite impressive to check how our simple linear regression jumps from a bad 0.64 validation $R^2$ to an impressive $0.84$ ! And only by repeating the shuffling of the training and test sets."
   ]
  },
  {
   "cell_type": "code",
   "execution_count": 13,
   "metadata": {
    "scrolled": false
   },
   "outputs": [
    {
     "name": "stdout",
     "output_type": "stream",
     "text": [
      "Best Validation R2: 0.77\n"
     ]
    }
   ],
   "source": [
    "scores = my_pipeline(X, y, max_iterations=100)\n",
    "max_val_r2 = np.amax(scores['val_r2'])\n",
    "print('Best Validation R2: {:.2f}'.format(max_val_r2))"
   ]
  },
  {
   "cell_type": "markdown",
   "metadata": {},
   "source": [
    "### Visualize Validation Scores\n",
    "\n",
    "To get an idea of what we got, let's draw a density plot with the validation score values saved along the different iterations. The density plot illustrates how important is to shuffle the training, test and validation sets to find out what is the one which is producing the best generalization."
   ]
  },
  {
   "cell_type": "code",
   "execution_count": 14,
   "metadata": {},
   "outputs": [
    {
     "data": {
      "image/png": "[encoded data removed]",
      "text/plain": [
       "<Figure size 432x288 with 1 Axes>"
      ]
     },
     "metadata": {},
     "output_type": "display_data"
    }
   ],
   "source": [
    "sns.distplot(scores['val_r2'], hist = False, kde = True,\n",
    "             kde_kws = {'shade': True, 'linewidth': 3});"
   ]
  },
  {
   "cell_type": "markdown",
   "metadata": {},
   "source": [
    "\n",
    "### Increase the number of folds in train and test\n",
    "\n",
    "What if I increase the number of folds from 1 to 10? The results are plotted below and there's n significant improvement in the results of the validation scores. \n",
    "\n",
    "Why? Well, It's namely because of the way we implemented our train & predict method: we're training `num_folds` linear regression without keeping it for test scoring. If we do that, we will explore which model will better generalize over different test sets, but keeping a single training split. And that will for sure, be a better method to assess over the the validation split.\n",
    "\n",
    "**Important**\n",
    "\n",
    "By partitioning the available data into three sets, we drastically reduce the number of samples which can be used for learning the model, and the results can depend on a particular random choice for the pair of (train, validation) sets. A test set should still be held out for final evaluation, but the validation set is no longer needed when doing CV. In the basic approach, called k-fold CV, the training set is split into k smaller sets."
   ]
  },
  {
   "cell_type": "code",
   "execution_count": 15,
   "metadata": {},
   "outputs": [
    {
     "name": "stdout",
     "output_type": "stream",
     "text": [
      "Best Validation R2: 0.76\n"
     ]
    },
    {
     "data": {
      "image/png": "[encoded data removed]",
      "text/plain": [
       "<Figure size 432x288 with 1 Axes>"
      ]
     },
     "metadata": {},
     "output_type": "display_data"
    }
   ],
   "source": [
    "score_2 = my_pipeline(X, y, max_iterations=100, num_folds=10)\n",
    "max_val_r2 = np.amax(score_2['val_r2'])\n",
    "print('Best Validation R2: {:.2f}'.format(max_val_r2))\n",
    "fig, ax = plt.subplots()\n",
    "sns.distplot(scores['val_r2'], hist = False, kde = True,\n",
    "             kde_kws = {'shade': True, 'linewidth': 3}, ax=ax);\n",
    "sns.distplot(score_2['val_r2'], hist = False, kde = True,\n",
    "             kde_kws = {'shade': True, 'linewidth': 3}, ax=ax);"
   ]
  },
  {
   "cell_type": "markdown",
   "metadata": {
    "slideshow": {
     "slide_type": "slide"
    }
   },
   "source": [
    "## Using SKLEARN Pipelines\n",
    "\n",
    "Instead of having you to program everything from scratch, you can also access `sklearn` API for building preprocessing and cross validation pipelines. In the example below, we put in practice the very same approach used before, but using only three lines of code (!).\n",
    "\n",
    "I strongly recommend you to explore deeper the capabilities of the cross validation functions in SKLearn.\n",
    "\n",
    "## Features preprocessing\n",
    "\n",
    "Before we go deeper, we must ensure that our features fulfill the set of requirements that are imposed by the linear regression method: centered and with variance = 1, following a normal ditribution and no correlation among them, namely. To do so, we will build a transformation pipeline. For more details, please, refere to the page: https://www.kaggle.com/baghern/a-deep-dive-into-sklearn-pipelines\n",
    "\n",
    "This case we're using the sklearn-pandas integration library `sklearn_pandas` which makes transformation pipelines much easier to read and understand. In the example below we're simply applying a standard scaler."
   ]
  },
  {
   "cell_type": "code",
   "execution_count": 16,
   "metadata": {},
   "outputs": [],
   "source": [
    "mapper = DataFrameMapper([(list(adv), StandardScaler())], df_out=True)\n",
    "res = np.round(mapper.fit_transform(adv), 2)\n",
    "res.columns = list(adv)  # Set the columns names as they were."
   ]
  },
  {
   "cell_type": "markdown",
   "metadata": {},
   "source": [
    "### Simple Cross Validation score\n",
    "\n",
    "As we sai, instead of having to program every single function in charge of splitting the datasets, setting the random seed, feeding a model with the training part and evaluating with test part, we will explore the `cross_val_score` method. It will be able to produce a single scoring (if you want more than one, you must use `cross_validate`) and will allow you to decide what CV strategy to use, or build a custom one.\n",
    "\n",
    "In the example below, we feed the `cross_val_score` with \n",
    "- the model (or pipeline) to be fit (`model`), \n",
    "- the features (`X`),\n",
    "- the target datasets (`y`), \n",
    "- the cross validation strategy (`cv`), and\n",
    "- the validation metric we want as a result (`r2`)\n",
    "\n",
    "This will run the cross validation with the model over the features and target using a ShuffleSplit (similar to _k-fold_ but with random splits), _n_splits_ (1000) times, evaluating with a 20% split as a test set, and returning the R2 achieved."
   ]
  },
  {
   "cell_type": "code",
   "execution_count": 17,
   "metadata": {},
   "outputs": [
    {
     "name": "stdout",
     "output_type": "stream",
     "text": [
      "Best Validation R2: 0.76\n"
     ]
    },
    {
     "data": {
      "image/png": "[encoded data removed]",
      "text/plain": [
       "<Figure size 432x288 with 1 Axes>"
      ]
     },
     "metadata": {},
     "output_type": "display_data"
    }
   ],
   "source": [
    "model = linear_model.LinearRegression()\n",
    "cv = ShuffleSplit(n_splits=100, test_size=0.2, random_state=666)\n",
    "scores = cross_val_score(model, X, y, cv=cv, scoring='r2')\n",
    "print('Best Validation R2: {:.2f}'.format(max(scores)))\n",
    "\n",
    "sns.distplot(scores, hist = False, kde = True, kde_kws = {'shade': True, 'linewidth': 3});"
   ]
  },
  {
   "cell_type": "markdown",
   "metadata": {
    "slideshow": {
     "slide_type": "slide"
    }
   },
   "source": [
    "## Multiple Linear Regression\n",
    "\n",
    "We want to consider all possible predictors available when it comes to train model. So, it's time to use the other two columns in the original dataset: radio and newspapers."
   ]
  },
  {
   "cell_type": "code",
   "execution_count": 18,
   "metadata": {},
   "outputs": [
    {
     "data": {
      "text/html": [
       "<div>\n",
       "<style scoped>\n",
       "    .dataframe tbody tr th:only-of-type {\n",
       "        vertical-align: middle;\n",
       "    }\n",
       "\n",
       "    .dataframe tbody tr th {\n",
       "        vertical-align: top;\n",
       "    }\n",
       "\n",
       "    .dataframe thead th {\n",
       "        text-align: right;\n",
       "    }\n",
       "</style>\n",
       "<table border=\"1\" class=\"dataframe\">\n",
       "  <thead>\n",
       "    <tr style=\"text-align: right;\">\n",
       "      <th></th>\n",
       "      <th>TV</th>\n",
       "      <th>radio</th>\n",
       "      <th>newspaper</th>\n",
       "    </tr>\n",
       "  </thead>\n",
       "  <tbody>\n",
       "    <tr>\n",
       "      <th>0</th>\n",
       "      <td>230.1</td>\n",
       "      <td>37.8</td>\n",
       "      <td>69.2</td>\n",
       "    </tr>\n",
       "    <tr>\n",
       "      <th>1</th>\n",
       "      <td>44.5</td>\n",
       "      <td>39.3</td>\n",
       "      <td>45.1</td>\n",
       "    </tr>\n",
       "  </tbody>\n",
       "</table>\n",
       "</div>"
      ],
      "text/plain": [
       "      TV  radio  newspaper\n",
       "0  230.1   37.8       69.2\n",
       "1   44.5   39.3       45.1"
      ]
     },
     "execution_count": 18,
     "metadata": {},
     "output_type": "execute_result"
    }
   ],
   "source": [
    "X = pd.DataFrame(adv.loc[:, ['TV','radio','newspaper']])\n",
    "y = pd.DataFrame(adv, columns=['sales'])\n",
    "X.head(2)"
   ]
  },
  {
   "cell_type": "markdown",
   "metadata": {
    "slideshow": {
     "slide_type": "slide"
    }
   },
   "source": [
    "To train a multiple linear regression, the only thing that we must do is to feed the model with all the variables that you want to consider for the final equation. Obviously, building a linear model with 3 features, implies that our model is better described in 3+1 dimensions, which makes this task slightly more difficult to plot."
   ]
  },
  {
   "cell_type": "code",
   "execution_count": 19,
   "metadata": {},
   "outputs": [
    {
     "name": "stdout",
     "output_type": "stream",
     "text": [
      "Multiple linear regression R2: 0.51\n",
      "Multiple linear regression coeffcients: [[0.04757558]]\n"
     ]
    }
   ],
   "source": [
    "mlm, split, test_r2 = train_and_predict(X, y)\n",
    "print('Multiple linear regression R2: {:.2f}'.format(test_r2))\n",
    "print('Multiple linear regression coeffcients: {}'.format(mlm.coef_))"
   ]
  },
  {
   "cell_type": "markdown",
   "metadata": {},
   "source": [
    "Repeating our CV experiment with SKLearn, this time replacing the single-feature $X$ by a 3-features dataframe $X$, leads to a similar result ($0.96$)."
   ]
  },
  {
   "cell_type": "code",
   "execution_count": 20,
   "metadata": {},
   "outputs": [
    {
     "name": "stdout",
     "output_type": "stream",
     "text": [
      "Best Validation R2: 0.95\n"
     ]
    },
    {
     "data": {
      "image/png": "[encoded data removed]",
      "text/plain": [
       "<Figure size 432x288 with 1 Axes>"
      ]
     },
     "metadata": {},
     "output_type": "display_data"
    }
   ],
   "source": [
    "clf = linear_model.LinearRegression()\n",
    "cv = ShuffleSplit(n_splits=100, test_size=0.2, random_state=0)\n",
    "scores = cross_val_score(clf, X, y, cv=cv, scoring='r2')\n",
    "print('Best Validation R2: {:.2f}'.format(max(scores)))\n",
    "\n",
    "sns.distplot(scores, hist = False, kde = True, kde_kws = {'shade': True, 'linewidth': 3});"
   ]
  },
  {
   "cell_type": "markdown",
   "metadata": {
    "slideshow": {
     "slide_type": "slide"
    }
   },
   "source": [
    "### What's important in Multiple linear regression\n",
    "\n",
    "There's two concepts that are important when running a multiple linear regression: _p_values_ and "
   ]
  },
  {
   "cell_type": "code",
   "execution_count": 21,
   "metadata": {
    "scrolled": false
   },
   "outputs": [
    {
     "name": "stdout",
     "output_type": "stream",
     "text": [
      "                            OLS Regression Results                            \n",
      "==============================================================================\n",
      "Dep. Variable:                  sales   R-squared:                       0.897\n",
      "Model:                            OLS   Adj. R-squared:                  0.896\n",
      "Method:                 Least Squares   F-statistic:                     570.3\n",
      "Date:                Wed, 19 Dec 2018   Prob (F-statistic):           1.58e-96\n",
      "Time:                        08:06:44   Log-Likelihood:                -386.18\n",
      "No. Observations:                 200   AIC:                             780.4\n",
      "Df Residuals:                     196   BIC:                             793.6\n",
      "Df Model:                           3                                         \n",
      "Covariance Type:            nonrobust                                         \n",
      "==============================================================================\n",
      "                 coef    std err          t      P>|t|      [0.025      0.975]\n",
      "------------------------------------------------------------------------------\n",
      "const          2.9389      0.312      9.422      0.000       2.324       3.554\n",
      "TV             0.0458      0.001     32.809      0.000       0.043       0.049\n",
      "radio          0.1885      0.009     21.893      0.000       0.172       0.206\n",
      "newspaper     -0.0010      0.006     -0.177      0.860      -0.013       0.011\n",
      "==============================================================================\n",
      "Omnibus:                       60.414   Durbin-Watson:                   2.084\n",
      "Prob(Omnibus):                  0.000   Jarque-Bera (JB):              151.241\n",
      "Skew:                          -1.327   Prob(JB):                     1.44e-33\n",
      "Kurtosis:                       6.332   Cond. No.                         454.\n",
      "==============================================================================\n",
      "\n",
      "Warnings:\n",
      "[1] Standard Errors assume that the covariance matrix of the errors is correctly specified.\n"
     ]
    }
   ],
   "source": [
    "X = add_constant(X)\n",
    "model = sm.OLS(y, X).fit()\n",
    "print(model.summary())"
   ]
  },
  {
   "cell_type": "markdown",
   "metadata": {
    "slideshow": {
     "slide_type": "slide"
    }
   },
   "source": [
    "## Bias and variance over training\n",
    "\n",
    "One of the advantages of linear regression is that we can make it as much complicated or fitted to data as we want. We simply add polynomial interactions between variables the following way:\n",
    "\n",
    "- Split datasets to hold out a test set, and use the training set for a cross-validation model selection\n",
    "- Build an sklearn _pipeline_ to randomly produce polynomial expressions before fitting a linear regression\n",
    "- Perform a CV validation score over the test set to check how do the models perform.\n",
    "\n",
    "We will extract some parts of the code to separate functions for the sake of code clarity, and better readibility. The first function (`xy_values`) will simply produce a dataframe with columns `x` and `y` after applying the prediction stage to an input dataframe. The second function (`polynomial_pipeline`) will construct a pipeline in which at first, a polynomial is found over input dataset, and second, a linear regression is fit (OLS) with that polynomial."
   ]
  },
  {
   "cell_type": "code",
   "execution_count": 22,
   "metadata": {},
   "outputs": [],
   "source": [
    "def xy_values(pipeline, X):\n",
    "    \"\"\" Returns the x and y values sorted by X in a dataframe \"\"\"\n",
    "    y_pred = pipeline.predict(X)\n",
    "    return pd.DataFrame({'x': list(X.values), 'y': list(y_pred)}).\\\n",
    "                        sort_values(by=['x'])"
   ]
  },
  {
   "cell_type": "code",
   "execution_count": 23,
   "metadata": {},
   "outputs": [],
   "source": [
    "def polynomial_pipeline(X, y, degree):\n",
    "    \"\"\"\n",
    "    Build a pipeline with polinomial expressions and linear regression over it.\n",
    "    \"\"\"\n",
    "    cv = ShuffleSplit(n_splits=100, test_size=0.2, random_state=555)\n",
    "    poly = PolynomialFeatures(degree=degree, interaction_only=False, include_bias=False)\n",
    "    lm = linear_model.LinearRegression()\n",
    "    pipeline = make_pipeline(poly, lm)\n",
    "    pipeline.fit(X, y)\n",
    "    return pipeline"
   ]
  },
  {
   "cell_type": "code",
   "execution_count": 24,
   "metadata": {},
   "outputs": [
    {
     "name": "stdout",
     "output_type": "stream",
     "text": [
      "The polynomial features used are:\n",
      " ['x0', 'x0^2']\n",
      "Best Validation R2: 0.78\n"
     ]
    }
   ],
   "source": [
    "split = prepare_datasets(adv, ['TV'], 'sales')\n",
    "pipeline = polynomial_pipeline(split['X_train'], split['y_train'], degree=2)\n",
    "scores = cross_val_score(pipeline, split['X_test'], split['y_test'],\n",
    "                         scoring=\"r2\", cv=cv)\n",
    "print('The polynomial features used are:\\n', \n",
    "      pipeline.get_params('polynomialfeatures')['polynomialfeatures'].get_feature_names())\n",
    "print('Best Validation R2: {:.2f}'.format(max(scores)))"
   ]
  },
  {
   "cell_type": "markdown",
   "metadata": {
    "slideshow": {
     "slide_type": "slide"
    }
   },
   "source": [
    "### Plot the polynomial expression.\n",
    "\n",
    "As you can easily check for this simulation, the higher degree polynomial means a better fit to the training but poorer generalization. It seems that here we might be overfitting a bit."
   ]
  },
  {
   "cell_type": "code",
   "execution_count": 26,
   "metadata": {
    "slideshow": {
     "slide_type": "fragment"
    }
   },
   "outputs": [
    {
     "data": {
      "image/png": "[encoded data removed]",
      "text/plain": [
       "<Figure size 792x288 with 2 Axes>"
      ]
     },
     "metadata": {},
     "output_type": "display_data"
    }
   ],
   "source": [
    "f, (ax1, ax2) = plt.subplots(nrows=1, ncols=2)\n",
    "f.set_figwidth(11)\n",
    "ax1.scatter(split['X_train'].values, split['y_train'].values, color='grey')\n",
    "\n",
    "pred = xy_values(pipeline, split['X_test'])\n",
    "ax1.plot(pred.x.values, pred.y.values, label='prediction',\n",
    "         linewidth=3, color='green')\n",
    "ax1.grid()\n",
    "ax1.set_title('2 degree polynomial prediction')\n",
    "\n",
    "ax2.hist(scores[scores>0], 50, normed=1, alpha=0.5);\n",
    "ax2.set_title('histogram of scores')\n",
    "plt.show();"
   ]
  },
  {
   "cell_type": "markdown",
   "metadata": {
    "slideshow": {
     "slide_type": "slide"
    }
   },
   "source": [
    "### Training size effect\n",
    "\n",
    "A learning curve shows the validation and training score of an estimator for varying numbers of training samples. It is a tool to find out how much we benefit from adding more training data and whether the estimator suffers more from a variance error or a bias error."
   ]
  },
  {
   "cell_type": "code",
   "execution_count": 31,
   "metadata": {
    "slideshow": {
     "slide_type": "subslide"
    }
   },
   "outputs": [
    {
     "data": {
      "image/png": "[encoded data removed]",
      "text/plain": [
       "<Figure size 432x288 with 1 Axes>"
      ]
     },
     "metadata": {},
     "output_type": "display_data"
    }
   ],
   "source": [
    "train_sizes, train_scores, valid_scores = learning_curve(\n",
    "    lm, X, y, train_sizes=[50, 75, 100, 125, 150], cv=10)\n",
    "\n",
    "plt.plot(train_sizes, np.mean(train_scores, axis=1), '-o',\n",
    "         label='train_scores')\n",
    "plt.plot(train_sizes, np.mean(valid_scores, axis=1), '-o',\n",
    "         label='validation_scores')\n",
    "plt.title('Training curve')\n",
    "plt.legend(loc='best')\n",
    "plt.grid()\n",
    "plt.show()"
   ]
  },
  {
   "cell_type": "markdown",
   "metadata": {
    "slideshow": {
     "slide_type": "slide"
    }
   },
   "source": [
    "### What about the degree of the polynomial?\n",
    "\n",
    "Let's work on the `sklearn.model_selection.validation_curve` to see how the degree of the polynomial affects the R2 score."
   ]
  },
  {
   "cell_type": "code",
   "execution_count": 35,
   "metadata": {},
   "outputs": [
    {
     "data": {
      "image/png": "[encoded data removed]",
      "text/plain": [
       "<Figure size 432x288 with 1 Axes>"
      ]
     },
     "metadata": {},
     "output_type": "display_data"
    }
   ],
   "source": [
    "lm = linear_model.LinearRegression()\n",
    "degrees = np.arange(1, 10)\n",
    "model = make_pipeline(PolynomialFeatures(), lm)\n",
    "\n",
    "train_scores, validation_scores = validation_curve(\n",
    "                 model, X, y,\n",
    "                 param_name='polynomialfeatures__degree',\n",
    "                 param_range=degrees)\n",
    "\n",
    "# Plot the mean train error and validation error across folds\n",
    "plt.figure(figsize=(6, 4))\n",
    "plt.plot(degrees, train_scores.mean(axis=1), '-o',\n",
    "         lw=2, label='training')\n",
    "plt.plot(degrees, validation_scores.mean(axis=1), '-o',\n",
    "         lw=2, label='cross-validation')\n",
    "plt.title('Validation curve')\n",
    "plt.legend(loc='best')\n",
    "plt.xlabel('degree of polynomial')\n",
    "plt.ylabel('explained variance ($R^2$)')\n",
    "plt.tight_layout()\n",
    "plt.grid()\n",
    "plt.show()"
   ]
  },
  {
   "cell_type": "markdown",
   "metadata": {},
   "source": [
    "Now try to iterate over different maximum degrees for the polinomials to be generated to see how they affect the overall score of the model."
   ]
  },
  {
   "cell_type": "code",
   "execution_count": 37,
   "metadata": {},
   "outputs": [
    {
     "data": {
      "image/png": "[encoded data removed]",
      "text/plain": [
       "<Figure size 432x288 with 1 Axes>"
      ]
     },
     "metadata": {},
     "output_type": "display_data"
    }
   ],
   "source": [
    "split = prepare_datasets(adv, ['TV'], 'sales', seed=1024)\n",
    "plt.figure(figsize=(6, 4))\n",
    "plt.scatter(split['X_train'].values, split['y_train'].values, color='grey')\n",
    "for degree in range(1, 6):\n",
    "    pipeline = polynomial_pipeline(split['X_train'], split['y_train'], degree)\n",
    "    scores = cross_val_score(pipeline, split['X_test'], split['y_test'],\n",
    "                             scoring=\"r2\", cv=cv)\n",
    "    pred = xy_values(pipeline, split['X_test'])\n",
    "    plt.plot(pred.x.values, pred.y.values, \n",
    "             label='degree {}'.format(degree))\n",
    "    \n",
    "plt.title('Linear regression with different polynomial degrees')\n",
    "plt.legend(loc='best')\n",
    "plt.grid()\n",
    "plt.show()"
   ]
  },
  {
   "cell_type": "code",
   "execution_count": null,
   "metadata": {},
   "outputs": [],
   "source": []
  }
 ],
 "metadata": {
  "celltoolbar": "Slideshow",
  "kernelspec": {
   "display_name": "Python 3",
   "language": "python",
   "name": "python3"
  },
  "language_info": {
   "codemirror_mode": {
    "name": "ipython",
    "version": 3
   },
   "file_extension": ".py",
   "mimetype": "text/x-python",
   "name": "python",
   "nbconvert_exporter": "python",
   "pygments_lexer": "ipython3",
   "version": "3.6.5"
  }
 },
 "nbformat": 4,
 "nbformat_minor": 2
}
